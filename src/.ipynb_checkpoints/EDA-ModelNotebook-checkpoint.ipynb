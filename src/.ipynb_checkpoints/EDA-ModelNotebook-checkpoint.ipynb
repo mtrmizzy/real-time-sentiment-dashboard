{
 "cells": [
  {
   "cell_type": "code",
   "execution_count": 1,
   "id": "3ba70d98-9c74-4dc8-8e30-a59f80f38f30",
   "metadata": {},
   "outputs": [],
   "source": [
    "import pandas as pd\n",
    "import seaborn as sns\n",
    "import numpy as np\n",
    "import matplotlib.pyplot as plt\n",
    "import warnings\n",
    "warnings.filterwarnings('ignore')"
   ]
  },
  {
   "cell_type": "code",
   "execution_count": 4,
   "id": "b55db6d6-8002-45dc-a7de-077c64c7c70b",
   "metadata": {},
   "outputs": [],
   "source": [
    "comments_df = pd.read_csv(r\"C:\\Users\\memoo\\OneDrive\\Desktop\\DataScience\\FinalProjectFiles\\RedditAPIProject\\MainGitHubRepo\\data\\Archive-Data_Log-1\\archived_reddit_comments_data_20250604_051621.csv\")\n",
    "posts_df = pd.read_csv(r\"C:\\Users\\memoo\\OneDrive\\Desktop\\DataScience\\FinalProjectFiles\\RedditAPIProject\\MainGitHubRepo\\data\\Archive-Data_Log-1\\archived_reddit_posts_data_20250604_051621.csv\")"
   ]
  },
  {
   "cell_type": "code",
   "execution_count": 6,
   "id": "6999ec59-911d-4486-9aed-d9ec2154fbf6",
   "metadata": {},
   "outputs": [
    {
     "name": "stdout",
     "output_type": "stream",
     "text": [
      "<class 'pandas.core.frame.DataFrame'>\n",
      "RangeIndex: 162 entries, 0 to 161\n",
      "Data columns (total 13 columns):\n",
      " #   Column         Non-Null Count  Dtype  \n",
      "---  ------         --------------  -----  \n",
      " 0   id             162 non-null    int64  \n",
      " 1   comment_id     162 non-null    object \n",
      " 2   body           162 non-null    object \n",
      " 3   author         162 non-null    object \n",
      " 4   score          162 non-null    int64  \n",
      " 5   created_utc    162 non-null    object \n",
      " 6   subreddit      162 non-null    object \n",
      " 7   is_submitter   162 non-null    bool   \n",
      " 8   depth          0 non-null      float64\n",
      " 9   distinguished  5 non-null      object \n",
      " 10  parent_id      162 non-null    object \n",
      " 11  link_id        162 non-null    object \n",
      " 12  ingested_at    162 non-null    object \n",
      "dtypes: bool(1), float64(1), int64(2), object(9)\n",
      "memory usage: 15.5+ KB\n"
     ]
    }
   ],
   "source": [
    "comments_df.info()"
   ]
  },
  {
   "cell_type": "code",
   "execution_count": 7,
   "id": "e3ace6ea-d008-448a-9dfd-8c0b330d0140",
   "metadata": {},
   "outputs": [
    {
     "name": "stdout",
     "output_type": "stream",
     "text": [
      "<class 'pandas.core.frame.DataFrame'>\n",
      "RangeIndex: 0 entries\n",
      "Data columns (total 14 columns):\n",
      " #   Column        Non-Null Count  Dtype \n",
      "---  ------        --------------  ----- \n",
      " 0   id            0 non-null      object\n",
      " 1   post_id       0 non-null      object\n",
      " 2   title         0 non-null      object\n",
      " 3   selftext      0 non-null      object\n",
      " 4   author        0 non-null      object\n",
      " 5   score         0 non-null      object\n",
      " 6   num_comments  0 non-null      object\n",
      " 7   created_utc   0 non-null      object\n",
      " 8   subreddit     0 non-null      object\n",
      " 9   flair         0 non-null      object\n",
      " 10  url           0 non-null      object\n",
      " 11  over_18       0 non-null      object\n",
      " 12  is_self       0 non-null      object\n",
      " 13  ingested_at   0 non-null      object\n",
      "dtypes: object(14)\n",
      "memory usage: 132.0+ bytes\n"
     ]
    }
   ],
   "source": [
    "posts_df.info()"
   ]
  },
  {
   "cell_type": "code",
   "execution_count": 8,
   "id": "7c6032ae-7961-464c-825a-d1992d7ca992",
   "metadata": {},
   "outputs": [
    {
     "data": {
      "text/html": [
       "<div>\n",
       "<style scoped>\n",
       "    .dataframe tbody tr th:only-of-type {\n",
       "        vertical-align: middle;\n",
       "    }\n",
       "\n",
       "    .dataframe tbody tr th {\n",
       "        vertical-align: top;\n",
       "    }\n",
       "\n",
       "    .dataframe thead th {\n",
       "        text-align: right;\n",
       "    }\n",
       "</style>\n",
       "<table border=\"1\" class=\"dataframe\">\n",
       "  <thead>\n",
       "    <tr style=\"text-align: right;\">\n",
       "      <th></th>\n",
       "      <th>id</th>\n",
       "      <th>comment_id</th>\n",
       "      <th>body</th>\n",
       "      <th>author</th>\n",
       "      <th>score</th>\n",
       "      <th>created_utc</th>\n",
       "      <th>subreddit</th>\n",
       "      <th>is_submitter</th>\n",
       "      <th>depth</th>\n",
       "      <th>distinguished</th>\n",
       "      <th>parent_id</th>\n",
       "      <th>link_id</th>\n",
       "      <th>ingested_at</th>\n",
       "    </tr>\n",
       "  </thead>\n",
       "  <tbody>\n",
       "    <tr>\n",
       "      <th>0</th>\n",
       "      <td>32851</td>\n",
       "      <td>mvweqxm</td>\n",
       "      <td>what's especially sad is the fact that daedali...</td>\n",
       "      <td>FlaaFlaaFlunky</td>\n",
       "      <td>1</td>\n",
       "      <td>2025-06-04 04:56:47</td>\n",
       "      <td>gaming</td>\n",
       "      <td>False</td>\n",
       "      <td>NaN</td>\n",
       "      <td>NaN</td>\n",
       "      <td>t1_mvw33qr</td>\n",
       "      <td>t3_1l2vgiy</td>\n",
       "      <td>2025-06-04 04:56:59.892068</td>\n",
       "    </tr>\n",
       "    <tr>\n",
       "      <th>1</th>\n",
       "      <td>32852</td>\n",
       "      <td>mvwer19</td>\n",
       "      <td>don't forget all minority groups!</td>\n",
       "      <td>EndPointNear</td>\n",
       "      <td>1</td>\n",
       "      <td>2025-06-04 04:56:48</td>\n",
       "      <td>news</td>\n",
       "      <td>False</td>\n",
       "      <td>NaN</td>\n",
       "      <td>NaN</td>\n",
       "      <td>t1_mvvhvcq</td>\n",
       "      <td>t3_1l2s9ok</td>\n",
       "      <td>2025-06-04 04:57:00.396345</td>\n",
       "    </tr>\n",
       "    <tr>\n",
       "      <th>2</th>\n",
       "      <td>32853</td>\n",
       "      <td>mvwer86</td>\n",
       "      <td>Surprised nobody has mentioned Terra Invicta, ...</td>\n",
       "      <td>PancAshAsh</td>\n",
       "      <td>1</td>\n",
       "      <td>2025-06-04 04:56:51</td>\n",
       "      <td>gaming</td>\n",
       "      <td>False</td>\n",
       "      <td>NaN</td>\n",
       "      <td>NaN</td>\n",
       "      <td>t3_1l2jrht</td>\n",
       "      <td>t3_1l2jrht</td>\n",
       "      <td>2025-06-04 04:57:02.709752</td>\n",
       "    </tr>\n",
       "    <tr>\n",
       "      <th>3</th>\n",
       "      <td>32854</td>\n",
       "      <td>mvwergw</td>\n",
       "      <td>Salty, some would say</td>\n",
       "      <td>Whatajabroni</td>\n",
       "      <td>1</td>\n",
       "      <td>2025-06-04 04:56:54</td>\n",
       "      <td>news</td>\n",
       "      <td>False</td>\n",
       "      <td>NaN</td>\n",
       "      <td>NaN</td>\n",
       "      <td>t1_mvuipy3</td>\n",
       "      <td>t3_1l2kz7x</td>\n",
       "      <td>2025-06-04 04:57:04.862277</td>\n",
       "    </tr>\n",
       "    <tr>\n",
       "      <th>4</th>\n",
       "      <td>32855</td>\n",
       "      <td>mvweseb</td>\n",
       "      <td>We don't want to kill babies, so let's let adu...</td>\n",
       "      <td>kmoonster</td>\n",
       "      <td>1</td>\n",
       "      <td>2025-06-04 04:57:06</td>\n",
       "      <td>news</td>\n",
       "      <td>False</td>\n",
       "      <td>NaN</td>\n",
       "      <td>NaN</td>\n",
       "      <td>t3_1l2qplg</td>\n",
       "      <td>t3_1l2qplg</td>\n",
       "      <td>2025-06-04 04:57:22.636538</td>\n",
       "    </tr>\n",
       "  </tbody>\n",
       "</table>\n",
       "</div>"
      ],
      "text/plain": [
       "      id comment_id                                               body  \\\n",
       "0  32851    mvweqxm  what's especially sad is the fact that daedali...   \n",
       "1  32852    mvwer19                  don't forget all minority groups!   \n",
       "2  32853    mvwer86  Surprised nobody has mentioned Terra Invicta, ...   \n",
       "3  32854    mvwergw                              Salty, some would say   \n",
       "4  32855    mvweseb  We don't want to kill babies, so let's let adu...   \n",
       "\n",
       "           author  score          created_utc subreddit  is_submitter  depth  \\\n",
       "0  FlaaFlaaFlunky      1  2025-06-04 04:56:47    gaming         False    NaN   \n",
       "1    EndPointNear      1  2025-06-04 04:56:48      news         False    NaN   \n",
       "2      PancAshAsh      1  2025-06-04 04:56:51    gaming         False    NaN   \n",
       "3    Whatajabroni      1  2025-06-04 04:56:54      news         False    NaN   \n",
       "4       kmoonster      1  2025-06-04 04:57:06      news         False    NaN   \n",
       "\n",
       "  distinguished   parent_id     link_id                 ingested_at  \n",
       "0           NaN  t1_mvw33qr  t3_1l2vgiy  2025-06-04 04:56:59.892068  \n",
       "1           NaN  t1_mvvhvcq  t3_1l2s9ok  2025-06-04 04:57:00.396345  \n",
       "2           NaN  t3_1l2jrht  t3_1l2jrht  2025-06-04 04:57:02.709752  \n",
       "3           NaN  t1_mvuipy3  t3_1l2kz7x  2025-06-04 04:57:04.862277  \n",
       "4           NaN  t3_1l2qplg  t3_1l2qplg  2025-06-04 04:57:22.636538  "
      ]
     },
     "execution_count": 8,
     "metadata": {},
     "output_type": "execute_result"
    }
   ],
   "source": [
    "comments_df.head()"
   ]
  },
  {
   "cell_type": "code",
   "execution_count": 10,
   "id": "94242758-88c4-41fc-8e2d-7f6f22ea1651",
   "metadata": {},
   "outputs": [
    {
     "data": {
      "text/html": [
       "<div>\n",
       "<style scoped>\n",
       "    .dataframe tbody tr th:only-of-type {\n",
       "        vertical-align: middle;\n",
       "    }\n",
       "\n",
       "    .dataframe tbody tr th {\n",
       "        vertical-align: top;\n",
       "    }\n",
       "\n",
       "    .dataframe thead th {\n",
       "        text-align: right;\n",
       "    }\n",
       "</style>\n",
       "<table border=\"1\" class=\"dataframe\">\n",
       "  <thead>\n",
       "    <tr style=\"text-align: right;\">\n",
       "      <th></th>\n",
       "      <th>id</th>\n",
       "      <th>comment_id</th>\n",
       "      <th>body</th>\n",
       "      <th>author</th>\n",
       "      <th>score</th>\n",
       "      <th>created_utc</th>\n",
       "      <th>subreddit</th>\n",
       "      <th>is_submitter</th>\n",
       "      <th>depth</th>\n",
       "      <th>distinguished</th>\n",
       "      <th>parent_id</th>\n",
       "      <th>link_id</th>\n",
       "      <th>ingested_at</th>\n",
       "    </tr>\n",
       "  </thead>\n",
       "  <tbody>\n",
       "    <tr>\n",
       "      <th>157</th>\n",
       "      <td>33008</td>\n",
       "      <td>mvwh3z0</td>\n",
       "      <td>Oh no, I never heard about him getting harasse...</td>\n",
       "      <td>CarlySimonSays</td>\n",
       "      <td>1</td>\n",
       "      <td>2025-06-04 05:15:47</td>\n",
       "      <td>news</td>\n",
       "      <td>False</td>\n",
       "      <td>NaN</td>\n",
       "      <td>NaN</td>\n",
       "      <td>t1_mvvwahi</td>\n",
       "      <td>t3_1l2jc91</td>\n",
       "      <td>2025-06-04 05:15:58.587274</td>\n",
       "    </tr>\n",
       "    <tr>\n",
       "      <th>158</th>\n",
       "      <td>33009</td>\n",
       "      <td>mvwh548</td>\n",
       "      <td>Sonic Boom Rise of Lyrics</td>\n",
       "      <td>noobplayer96</td>\n",
       "      <td>1</td>\n",
       "      <td>2025-06-04 05:16:02</td>\n",
       "      <td>gaming</td>\n",
       "      <td>False</td>\n",
       "      <td>NaN</td>\n",
       "      <td>NaN</td>\n",
       "      <td>t3_1l2vgiy</td>\n",
       "      <td>t3_1l2vgiy</td>\n",
       "      <td>2025-06-04 05:16:16.919928</td>\n",
       "    </tr>\n",
       "    <tr>\n",
       "      <th>159</th>\n",
       "      <td>32848</td>\n",
       "      <td>mvwepgy</td>\n",
       "      <td>민주당에서 이겼으니까 됐지 라고 말한적 없어요. 다만 악마화 된 이미지를 그대로 믿...</td>\n",
       "      <td>yurikura</td>\n",
       "      <td>1</td>\n",
       "      <td>2025-06-04 04:56:27</td>\n",
       "      <td>news</td>\n",
       "      <td>False</td>\n",
       "      <td>NaN</td>\n",
       "      <td>NaN</td>\n",
       "      <td>t1_mvwdxo0</td>\n",
       "      <td>t3_1l2h244</td>\n",
       "      <td>2025-06-04 04:56:39.624960</td>\n",
       "    </tr>\n",
       "    <tr>\n",
       "      <th>160</th>\n",
       "      <td>32849</td>\n",
       "      <td>mvweph6</td>\n",
       "      <td>Ironic given he is a DUI hire.</td>\n",
       "      <td>musingofrandomness</td>\n",
       "      <td>1</td>\n",
       "      <td>2025-06-04 04:56:28</td>\n",
       "      <td>news</td>\n",
       "      <td>False</td>\n",
       "      <td>NaN</td>\n",
       "      <td>NaN</td>\n",
       "      <td>t1_mvwdr9c</td>\n",
       "      <td>t3_1l2w3i5</td>\n",
       "      <td>2025-06-04 04:56:40.127423</td>\n",
       "    </tr>\n",
       "    <tr>\n",
       "      <th>161</th>\n",
       "      <td>32850</td>\n",
       "      <td>mvweq10</td>\n",
       "      <td>This is it!</td>\n",
       "      <td>raerae1991</td>\n",
       "      <td>1</td>\n",
       "      <td>2025-06-04 04:56:35</td>\n",
       "      <td>news</td>\n",
       "      <td>False</td>\n",
       "      <td>NaN</td>\n",
       "      <td>NaN</td>\n",
       "      <td>t1_mvw9j0b</td>\n",
       "      <td>t3_1l2w3i5</td>\n",
       "      <td>2025-06-04 04:56:50.215808</td>\n",
       "    </tr>\n",
       "  </tbody>\n",
       "</table>\n",
       "</div>"
      ],
      "text/plain": [
       "        id comment_id                                               body  \\\n",
       "157  33008    mvwh3z0  Oh no, I never heard about him getting harasse...   \n",
       "158  33009    mvwh548                          Sonic Boom Rise of Lyrics   \n",
       "159  32848    mvwepgy  민주당에서 이겼으니까 됐지 라고 말한적 없어요. 다만 악마화 된 이미지를 그대로 믿...   \n",
       "160  32849    mvweph6                     Ironic given he is a DUI hire.   \n",
       "161  32850    mvweq10                                        This is it!   \n",
       "\n",
       "                 author  score          created_utc subreddit  is_submitter  \\\n",
       "157      CarlySimonSays      1  2025-06-04 05:15:47      news         False   \n",
       "158        noobplayer96      1  2025-06-04 05:16:02    gaming         False   \n",
       "159            yurikura      1  2025-06-04 04:56:27      news         False   \n",
       "160  musingofrandomness      1  2025-06-04 04:56:28      news         False   \n",
       "161          raerae1991      1  2025-06-04 04:56:35      news         False   \n",
       "\n",
       "     depth distinguished   parent_id     link_id                 ingested_at  \n",
       "157    NaN           NaN  t1_mvvwahi  t3_1l2jc91  2025-06-04 05:15:58.587274  \n",
       "158    NaN           NaN  t3_1l2vgiy  t3_1l2vgiy  2025-06-04 05:16:16.919928  \n",
       "159    NaN           NaN  t1_mvwdxo0  t3_1l2h244  2025-06-04 04:56:39.624960  \n",
       "160    NaN           NaN  t1_mvwdr9c  t3_1l2w3i5  2025-06-04 04:56:40.127423  \n",
       "161    NaN           NaN  t1_mvw9j0b  t3_1l2w3i5  2025-06-04 04:56:50.215808  "
      ]
     },
     "execution_count": 10,
     "metadata": {},
     "output_type": "execute_result"
    }
   ],
   "source": [
    "comments_df.tail()"
   ]
  },
  {
   "cell_type": "code",
   "execution_count": 9,
   "id": "877b83e0-ffc0-4099-a6a1-1667c545fa39",
   "metadata": {},
   "outputs": [
    {
     "data": {
      "text/plain": [
       "id               162\n",
       "comment_id       162\n",
       "body             161\n",
       "author           138\n",
       "score              1\n",
       "created_utc      154\n",
       "subreddit          3\n",
       "is_submitter       2\n",
       "depth              0\n",
       "distinguished      1\n",
       "parent_id        130\n",
       "link_id           46\n",
       "ingested_at      162\n",
       "dtype: int64"
      ]
     },
     "execution_count": 9,
     "metadata": {},
     "output_type": "execute_result"
    }
   ],
   "source": [
    "comments_df.nunique() "
   ]
  },
  {
   "cell_type": "code",
   "execution_count": 13,
   "id": "d741919f-9ff5-459e-86d3-42c6c7ab8989",
   "metadata": {},
   "outputs": [
    {
     "name": "stdout",
     "output_type": "stream",
     "text": [
      "Earliest comment:\n",
      "created_utc                                  2025-06-04 04:56:27\n",
      "ingested_at                           2025-06-04 04:56:39.624960\n",
      "body           민주당에서 이겼으니까 됐지 라고 말한적 없어요. 다만 악마화 된 이미지를 그대로 믿...\n",
      "Name: 159, dtype: object\n",
      "\n",
      "Latest comment:\n",
      "created_utc           2025-06-04 05:16:02\n",
      "ingested_at    2025-06-04 05:16:16.919928\n",
      "body            Sonic Boom Rise of Lyrics\n",
      "Name: 158, dtype: object\n"
     ]
    }
   ],
   "source": [
    "# Sort by created_utc in ascending order\n",
    "comments_df_sorted = comments_df.sort_values(by=\"created_utc\", ascending=True)\n",
    "\n",
    "# Display the earliest and latest comments\n",
    "print(\"Earliest comment:\")\n",
    "print(comments_df_sorted.iloc[0][[\"created_utc\", \"ingested_at\", \"body\"]])\n",
    "print(\"\\nLatest comment:\")\n",
    "print(comments_df_sorted.iloc[-1][[\"created_utc\", \"ingested_at\", \"body\"]])"
   ]
  },
  {
   "cell_type": "code",
   "execution_count": 12,
   "id": "8cbf7509-076b-4ecc-9dea-68cd78f0b8b0",
   "metadata": {},
   "outputs": [
    {
     "name": "stdout",
     "output_type": "stream",
     "text": [
      "Earliest comment:\n",
      "created_utc                                  2025-06-04 04:56:27\n",
      "ingested_at                           2025-06-04 04:56:39.624960\n",
      "body           민주당에서 이겼으니까 됐지 라고 말한적 없어요. 다만 악마화 된 이미지를 그대로 믿...\n",
      "Name: 159, dtype: object\n",
      "\n",
      "Latest comment:\n",
      "created_utc           2025-06-04 05:16:02\n",
      "ingested_at    2025-06-04 05:16:16.919928\n",
      "body            Sonic Boom Rise of Lyrics\n",
      "Name: 158, dtype: object\n"
     ]
    }
   ],
   "source": [
    "# Sort by created_utc in ascending order\n",
    "comments_df_sorted = comments_df.sort_values(by=\"ingested_at\", ascending=True)\n",
    "\n",
    "# Display the earliest and latest comments\n",
    "print(\"Earliest comment:\")\n",
    "print(comments_df_sorted.iloc[0][[\"created_utc\", \"ingested_at\", \"body\"]])\n",
    "print(\"\\nLatest comment:\")\n",
    "print(comments_df_sorted.iloc[-1][[\"created_utc\", \"ingested_at\", \"body\"]])"
   ]
  },
  {
   "cell_type": "markdown",
   "id": "ecf2265f-9d92-4954-b986-b621599f111b",
   "metadata": {},
   "source": [
    "### Gap of time between oldest and newest comments"
   ]
  },
  {
   "cell_type": "code",
   "execution_count": 16,
   "id": "2c68f0fb-4a2d-4695-a44e-5e53d7b0b936",
   "metadata": {},
   "outputs": [
    {
     "ename": "TypeError",
     "evalue": "unsupported operand type(s) for -: 'str' and 'str'",
     "output_type": "error",
     "traceback": [
      "\u001b[31m---------------------------------------------------------------------------\u001b[39m",
      "\u001b[31mTypeError\u001b[39m                                 Traceback (most recent call last)",
      "\u001b[36mCell\u001b[39m\u001b[36m \u001b[39m\u001b[32mIn[16]\u001b[39m\u001b[32m, line 3\u001b[39m\n\u001b[32m      1\u001b[39m created_min = comments_df[\u001b[33m'\u001b[39m\u001b[33mcreated_utc\u001b[39m\u001b[33m'\u001b[39m].min()\n\u001b[32m      2\u001b[39m created_max = comments_df[\u001b[33m'\u001b[39m\u001b[33mcreated_utc\u001b[39m\u001b[33m'\u001b[39m].max()\n\u001b[32m----> \u001b[39m\u001b[32m3\u001b[39m \u001b[38;5;28mprint\u001b[39m(\u001b[33mf\u001b[39m\u001b[33m\"\u001b[39m\u001b[33mGap between earliest and latest created_utc: \u001b[39m\u001b[38;5;132;01m{\u001b[39;00m\u001b[43mcreated_max\u001b[49m\u001b[38;5;250;43m \u001b[39;49m\u001b[43m-\u001b[49m\u001b[38;5;250;43m \u001b[39;49m\u001b[43mcreated_min\u001b[49m\u001b[38;5;132;01m}\u001b[39;00m\u001b[33m\"\u001b[39m)\n",
      "\u001b[31mTypeError\u001b[39m: unsupported operand type(s) for -: 'str' and 'str'"
     ]
    }
   ],
   "source": [
    "created_min = comments_df['created_utc'].min()\n",
    "created_max = comments_df['created_utc'].max()\n",
    "print(f\"Gap between earliest and latest created_utc: {created_max - created_min}\")"
   ]
  },
  {
   "cell_type": "code",
   "execution_count": 17,
   "id": "7f5ed709-c89f-463e-b590-8bbc9712f43f",
   "metadata": {},
   "outputs": [
    {
     "name": "stdout",
     "output_type": "stream",
     "text": [
      "count    162.000000\n",
      "mean      14.168005\n",
      "std        3.681522\n",
      "min       10.445172\n",
      "25%       11.438201\n",
      "50%       12.893292\n",
      "75%       15.610222\n",
      "max       25.898753\n",
      "Name: lag_seconds, dtype: float64\n"
     ]
    }
   ],
   "source": [
    "comments_df[\"created_utc\"] = pd.to_datetime(comments_df[\"created_utc\"])\n",
    "comments_df[\"ingested_at\"] = pd.to_datetime(comments_df[\"ingested_at\"])\n",
    "comments_df[\"lag_seconds\"] = (comments_df[\"ingested_at\"] - comments_df[\"created_utc\"]).dt.total_seconds()\n",
    "print(comments_df[\"lag_seconds\"].describe())\n"
   ]
  },
  {
   "cell_type": "code",
   "execution_count": null,
   "id": "7048b804-9c63-4a90-8588-8eaa6b914a03",
   "metadata": {},
   "outputs": [],
   "source": []
  },
  {
   "cell_type": "code",
   "execution_count": 18,
   "id": "a21c5ce5-3b55-4e47-9ad1-e10770b315cb",
   "metadata": {},
   "outputs": [
    {
     "name": "stdout",
     "output_type": "stream",
     "text": [
      "2025-06-04 04:56:39.624960\n",
      "2025-06-04 05:16:16.919928\n"
     ]
    }
   ],
   "source": [
    "comments_df[\"ingested_at\"] = pd.to_datetime(comments_df[\"ingested_at\"])\n",
    "print(comments_df[\"ingested_at\"].min())\n",
    "print(comments_df[\"ingested_at\"].max())"
   ]
  }
 ],
 "metadata": {
  "kernelspec": {
   "display_name": "Python 3 (ipykernel)",
   "language": "python",
   "name": "python3"
  },
  "language_info": {
   "codemirror_mode": {
    "name": "ipython",
    "version": 3
   },
   "file_extension": ".py",
   "mimetype": "text/x-python",
   "name": "python",
   "nbconvert_exporter": "python",
   "pygments_lexer": "ipython3",
   "version": "3.13.3"
  }
 },
 "nbformat": 4,
 "nbformat_minor": 5
}
