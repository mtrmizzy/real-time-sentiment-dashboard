{
 "cells": [
  {
   "cell_type": "markdown",
   "id": "900ed1ff-b25a-4a1f-8399-1930a553c6b8",
   "metadata": {},
   "source": [
    "# Real-Time Sentiment Analysis\n",
    "This project works with data that has been compiled in real-time. The data consists of Reddit Posts and Comments from the following Subreddits:\n",
    "- news\n",
    "- gaming\n",
    "- Showerthoughts\n",
    "## Project Goal\n",
    "- Apply sentiment analysis tool (VADER) to dataset\n",
    "- Train models to accurately predict sentiment of posts and comments\n",
    "- Create insightful visualizations of findings"
   ]
  },
  {
   "cell_type": "code",
   "execution_count": 1,
   "id": "3ba70d98-9c74-4dc8-8e30-a59f80f38f30",
   "metadata": {},
   "outputs": [],
   "source": [
    "import pandas as pd\n",
    "import seaborn as sns\n",
    "import numpy as np\n",
    "import matplotlib.pyplot as plt\n",
    "import warnings\n",
    "warnings.filterwarnings('ignore')"
   ]
  },
  {
   "cell_type": "code",
   "execution_count": 2,
   "id": "b55db6d6-8002-45dc-a7de-077c64c7c70b",
   "metadata": {},
   "outputs": [],
   "source": [
    "# Import Data\n",
    "comments_df = pd.read_csv(r\"C:\\Users\\memoo\\Desktop\\DataScience\\FinalProjectFiles\\RedditAPIProject\\MainGitHubRepo\\data\\Archive-Data_Log-2\\archived_reddit_comments_data_20250615_024634.csv\")\n",
    "posts_df = pd.read_csv(r\"C:\\Users\\memoo\\Desktop\\DataScience\\FinalProjectFiles\\RedditAPIProject\\MainGitHubRepo\\data\\Archive-Data_Log-2\\archived_reddit_posts_data_20250615_024634.csv\")"
   ]
  },
  {
   "cell_type": "markdown",
   "id": "9a044787-598b-40b0-8826-007f61fcba5d",
   "metadata": {},
   "source": [
    "## Data Cleaning"
   ]
  },
  {
   "cell_type": "code",
   "execution_count": 3,
   "id": "6999ec59-911d-4486-9aed-d9ec2154fbf6",
   "metadata": {},
   "outputs": [
    {
     "name": "stdout",
     "output_type": "stream",
     "text": [
      "<class 'pandas.core.frame.DataFrame'>\n",
      "RangeIndex: 254429 entries, 0 to 254428\n",
      "Data columns (total 13 columns):\n",
      " #   Column         Non-Null Count   Dtype  \n",
      "---  ------         --------------   -----  \n",
      " 0   id             254429 non-null  int64  \n",
      " 1   comment_id     254429 non-null  object \n",
      " 2   body           254420 non-null  object \n",
      " 3   author         254429 non-null  object \n",
      " 4   score          254429 non-null  int64  \n",
      " 5   created_utc    254429 non-null  object \n",
      " 6   subreddit      254429 non-null  object \n",
      " 7   is_submitter   254429 non-null  bool   \n",
      " 8   depth          0 non-null       float64\n",
      " 9   distinguished  2729 non-null    object \n",
      " 10  parent_id      254429 non-null  object \n",
      " 11  link_id        254429 non-null  object \n",
      " 12  ingested_at    254429 non-null  object \n",
      "dtypes: bool(1), float64(1), int64(2), object(9)\n",
      "memory usage: 23.5+ MB\n"
     ]
    }
   ],
   "source": [
    "comments_df.info()"
   ]
  },
  {
   "cell_type": "code",
   "execution_count": 4,
   "id": "e3ace6ea-d008-448a-9dfd-8c0b330d0140",
   "metadata": {},
   "outputs": [
    {
     "name": "stdout",
     "output_type": "stream",
     "text": [
      "<class 'pandas.core.frame.DataFrame'>\n",
      "RangeIndex: 1396 entries, 0 to 1395\n",
      "Data columns (total 14 columns):\n",
      " #   Column        Non-Null Count  Dtype \n",
      "---  ------        --------------  ----- \n",
      " 0   id            1396 non-null   int64 \n",
      " 1   post_id       1396 non-null   object\n",
      " 2   title         1396 non-null   object\n",
      " 3   selftext      496 non-null    object\n",
      " 4   author        1396 non-null   object\n",
      " 5   score         1396 non-null   int64 \n",
      " 6   num_comments  1396 non-null   int64 \n",
      " 7   created_utc   1396 non-null   object\n",
      " 8   subreddit     1396 non-null   object\n",
      " 9   flair         134 non-null    object\n",
      " 10  url           1396 non-null   object\n",
      " 11  over_18       1396 non-null   bool  \n",
      " 12  is_self       1396 non-null   bool  \n",
      " 13  ingested_at   1396 non-null   object\n",
      "dtypes: bool(2), int64(3), object(9)\n",
      "memory usage: 133.7+ KB\n"
     ]
    }
   ],
   "source": [
    "posts_df.info()"
   ]
  },
  {
   "cell_type": "code",
   "execution_count": 5,
   "id": "7c6032ae-7961-464c-825a-d1992d7ca992",
   "metadata": {},
   "outputs": [
    {
     "data": {
      "text/html": [
       "<div>\n",
       "<style scoped>\n",
       "    .dataframe tbody tr th:only-of-type {\n",
       "        vertical-align: middle;\n",
       "    }\n",
       "\n",
       "    .dataframe tbody tr th {\n",
       "        vertical-align: top;\n",
       "    }\n",
       "\n",
       "    .dataframe thead th {\n",
       "        text-align: right;\n",
       "    }\n",
       "</style>\n",
       "<table border=\"1\" class=\"dataframe\">\n",
       "  <thead>\n",
       "    <tr style=\"text-align: right;\">\n",
       "      <th></th>\n",
       "      <th>id</th>\n",
       "      <th>comment_id</th>\n",
       "      <th>body</th>\n",
       "      <th>author</th>\n",
       "      <th>score</th>\n",
       "      <th>created_utc</th>\n",
       "      <th>subreddit</th>\n",
       "      <th>is_submitter</th>\n",
       "      <th>depth</th>\n",
       "      <th>distinguished</th>\n",
       "      <th>parent_id</th>\n",
       "      <th>link_id</th>\n",
       "      <th>ingested_at</th>\n",
       "    </tr>\n",
       "  </thead>\n",
       "  <tbody>\n",
       "    <tr>\n",
       "      <th>0</th>\n",
       "      <td>33013</td>\n",
       "      <td>mvwh8fx</td>\n",
       "      <td>hospitals should be left to people who believe...</td>\n",
       "      <td>JoesG527</td>\n",
       "      <td>1</td>\n",
       "      <td>2025-06-04 05:16:47</td>\n",
       "      <td>news</td>\n",
       "      <td>False</td>\n",
       "      <td>NaN</td>\n",
       "      <td>NaN</td>\n",
       "      <td>t1_mvwa057</td>\n",
       "      <td>t3_1l2qplg</td>\n",
       "      <td>2025-06-04 05:16:59.393014</td>\n",
       "    </tr>\n",
       "    <tr>\n",
       "      <th>1</th>\n",
       "      <td>33014</td>\n",
       "      <td>mvwh9vi</td>\n",
       "      <td>https://x.com/GollumGame/status/16621241086147...</td>\n",
       "      <td>Jaune_Anonyme</td>\n",
       "      <td>1</td>\n",
       "      <td>2025-06-04 05:17:05</td>\n",
       "      <td>gaming</td>\n",
       "      <td>False</td>\n",
       "      <td>NaN</td>\n",
       "      <td>NaN</td>\n",
       "      <td>t1_mvwfehd</td>\n",
       "      <td>t3_1l2vgiy</td>\n",
       "      <td>2025-06-04 05:17:17.195573</td>\n",
       "    </tr>\n",
       "    <tr>\n",
       "      <th>2</th>\n",
       "      <td>33015</td>\n",
       "      <td>mvwhaop</td>\n",
       "      <td>Kingdoms of Amalur: reckoning  \\nIt wasn’t ter...</td>\n",
       "      <td>fneagen</td>\n",
       "      <td>1</td>\n",
       "      <td>2025-06-04 05:17:16</td>\n",
       "      <td>gaming</td>\n",
       "      <td>False</td>\n",
       "      <td>NaN</td>\n",
       "      <td>NaN</td>\n",
       "      <td>t3_1l2vgiy</td>\n",
       "      <td>t3_1l2vgiy</td>\n",
       "      <td>2025-06-04 05:17:26.530483</td>\n",
       "    </tr>\n",
       "    <tr>\n",
       "      <th>3</th>\n",
       "      <td>33016</td>\n",
       "      <td>mvwhb4t</td>\n",
       "      <td>I may be wrong on that but they're still mostl...</td>\n",
       "      <td>RZ_Domain</td>\n",
       "      <td>1</td>\n",
       "      <td>2025-06-04 05:17:21</td>\n",
       "      <td>gaming</td>\n",
       "      <td>False</td>\n",
       "      <td>NaN</td>\n",
       "      <td>NaN</td>\n",
       "      <td>t1_mvwbgfc</td>\n",
       "      <td>t3_1l2vgiy</td>\n",
       "      <td>2025-06-04 05:17:35.886598</td>\n",
       "    </tr>\n",
       "    <tr>\n",
       "      <th>4</th>\n",
       "      <td>33017</td>\n",
       "      <td>mvwhbuy</td>\n",
       "      <td>I do believe it's the current world record hol...</td>\n",
       "      <td>ravenousld3341</td>\n",
       "      <td>1</td>\n",
       "      <td>2025-06-04 05:17:31</td>\n",
       "      <td>gaming</td>\n",
       "      <td>False</td>\n",
       "      <td>NaN</td>\n",
       "      <td>NaN</td>\n",
       "      <td>t1_mvw4va8</td>\n",
       "      <td>t3_1l2vgiy</td>\n",
       "      <td>2025-06-04 05:17:45.332596</td>\n",
       "    </tr>\n",
       "  </tbody>\n",
       "</table>\n",
       "</div>"
      ],
      "text/plain": [
       "      id comment_id                                               body  \\\n",
       "0  33013    mvwh8fx  hospitals should be left to people who believe...   \n",
       "1  33014    mvwh9vi  https://x.com/GollumGame/status/16621241086147...   \n",
       "2  33015    mvwhaop  Kingdoms of Amalur: reckoning  \\nIt wasn’t ter...   \n",
       "3  33016    mvwhb4t  I may be wrong on that but they're still mostl...   \n",
       "4  33017    mvwhbuy  I do believe it's the current world record hol...   \n",
       "\n",
       "           author  score          created_utc subreddit  is_submitter  depth  \\\n",
       "0        JoesG527      1  2025-06-04 05:16:47      news         False    NaN   \n",
       "1   Jaune_Anonyme      1  2025-06-04 05:17:05    gaming         False    NaN   \n",
       "2         fneagen      1  2025-06-04 05:17:16    gaming         False    NaN   \n",
       "3       RZ_Domain      1  2025-06-04 05:17:21    gaming         False    NaN   \n",
       "4  ravenousld3341      1  2025-06-04 05:17:31    gaming         False    NaN   \n",
       "\n",
       "  distinguished   parent_id     link_id                 ingested_at  \n",
       "0           NaN  t1_mvwa057  t3_1l2qplg  2025-06-04 05:16:59.393014  \n",
       "1           NaN  t1_mvwfehd  t3_1l2vgiy  2025-06-04 05:17:17.195573  \n",
       "2           NaN  t3_1l2vgiy  t3_1l2vgiy  2025-06-04 05:17:26.530483  \n",
       "3           NaN  t1_mvwbgfc  t3_1l2vgiy  2025-06-04 05:17:35.886598  \n",
       "4           NaN  t1_mvw4va8  t3_1l2vgiy  2025-06-04 05:17:45.332596  "
      ]
     },
     "execution_count": 5,
     "metadata": {},
     "output_type": "execute_result"
    }
   ],
   "source": [
    "comments_df.head()"
   ]
  },
  {
   "cell_type": "code",
   "execution_count": 6,
   "id": "94242758-88c4-41fc-8e2d-7f6f22ea1651",
   "metadata": {},
   "outputs": [
    {
     "data": {
      "text/html": [
       "<div>\n",
       "<style scoped>\n",
       "    .dataframe tbody tr th:only-of-type {\n",
       "        vertical-align: middle;\n",
       "    }\n",
       "\n",
       "    .dataframe tbody tr th {\n",
       "        vertical-align: top;\n",
       "    }\n",
       "\n",
       "    .dataframe thead th {\n",
       "        text-align: right;\n",
       "    }\n",
       "</style>\n",
       "<table border=\"1\" class=\"dataframe\">\n",
       "  <thead>\n",
       "    <tr style=\"text-align: right;\">\n",
       "      <th></th>\n",
       "      <th>id</th>\n",
       "      <th>comment_id</th>\n",
       "      <th>body</th>\n",
       "      <th>author</th>\n",
       "      <th>score</th>\n",
       "      <th>created_utc</th>\n",
       "      <th>subreddit</th>\n",
       "      <th>is_submitter</th>\n",
       "      <th>depth</th>\n",
       "      <th>distinguished</th>\n",
       "      <th>parent_id</th>\n",
       "      <th>link_id</th>\n",
       "      <th>ingested_at</th>\n",
       "    </tr>\n",
       "  </thead>\n",
       "  <tbody>\n",
       "    <tr>\n",
       "      <th>254424</th>\n",
       "      <td>287434</td>\n",
       "      <td>mxuihkg</td>\n",
       "      <td>[He is an illegal immigrant, per this article ...</td>\n",
       "      <td>boxfortcommando</td>\n",
       "      <td>1</td>\n",
       "      <td>2025-06-15 02:45:15</td>\n",
       "      <td>news</td>\n",
       "      <td>False</td>\n",
       "      <td>NaN</td>\n",
       "      <td>NaN</td>\n",
       "      <td>t1_mxue4ly</td>\n",
       "      <td>t3_1lbp2u5</td>\n",
       "      <td>2025-06-15 02:45:26.773841</td>\n",
       "    </tr>\n",
       "    <tr>\n",
       "      <th>254425</th>\n",
       "      <td>287435</td>\n",
       "      <td>mxuihzk</td>\n",
       "      <td>not to give Kaczynski any props, but he was pr...</td>\n",
       "      <td>ms_directed</td>\n",
       "      <td>1</td>\n",
       "      <td>2025-06-15 02:45:20</td>\n",
       "      <td>news</td>\n",
       "      <td>False</td>\n",
       "      <td>NaN</td>\n",
       "      <td>NaN</td>\n",
       "      <td>t1_mxuhzrs</td>\n",
       "      <td>t3_1lbkcnt</td>\n",
       "      <td>2025-06-15 02:45:31.651460</td>\n",
       "    </tr>\n",
       "    <tr>\n",
       "      <th>254426</th>\n",
       "      <td>287436</td>\n",
       "      <td>mxuii1e</td>\n",
       "      <td>The US spent $6 trillion claiming to be agains...</td>\n",
       "      <td>Zak_Rahman</td>\n",
       "      <td>1</td>\n",
       "      <td>2025-06-15 02:45:20</td>\n",
       "      <td>news</td>\n",
       "      <td>False</td>\n",
       "      <td>NaN</td>\n",
       "      <td>NaN</td>\n",
       "      <td>t3_1lbbfuu</td>\n",
       "      <td>t3_1lbbfuu</td>\n",
       "      <td>2025-06-15 02:45:32.153652</td>\n",
       "    </tr>\n",
       "    <tr>\n",
       "      <th>254427</th>\n",
       "      <td>287437</td>\n",
       "      <td>mxuii4s</td>\n",
       "      <td>I’ve met people on that side who are 100% in f...</td>\n",
       "      <td>horseman5K</td>\n",
       "      <td>1</td>\n",
       "      <td>2025-06-15 02:45:21</td>\n",
       "      <td>news</td>\n",
       "      <td>False</td>\n",
       "      <td>NaN</td>\n",
       "      <td>NaN</td>\n",
       "      <td>t1_mxt9wt1</td>\n",
       "      <td>t3_1lbkcnt</td>\n",
       "      <td>2025-06-15 02:45:32.779532</td>\n",
       "    </tr>\n",
       "    <tr>\n",
       "      <th>254428</th>\n",
       "      <td>287438</td>\n",
       "      <td>mxuiidl</td>\n",
       "      <td>RIP the husband and dog</td>\n",
       "      <td>Alive-Monk-5705</td>\n",
       "      <td>1</td>\n",
       "      <td>2025-06-15 02:45:24</td>\n",
       "      <td>news</td>\n",
       "      <td>False</td>\n",
       "      <td>NaN</td>\n",
       "      <td>NaN</td>\n",
       "      <td>t3_1lbbfuu</td>\n",
       "      <td>t3_1lbbfuu</td>\n",
       "      <td>2025-06-15 02:45:35.265887</td>\n",
       "    </tr>\n",
       "  </tbody>\n",
       "</table>\n",
       "</div>"
      ],
      "text/plain": [
       "            id comment_id                                               body  \\\n",
       "254424  287434    mxuihkg  [He is an illegal immigrant, per this article ...   \n",
       "254425  287435    mxuihzk  not to give Kaczynski any props, but he was pr...   \n",
       "254426  287436    mxuii1e  The US spent $6 trillion claiming to be agains...   \n",
       "254427  287437    mxuii4s  I’ve met people on that side who are 100% in f...   \n",
       "254428  287438    mxuiidl                            RIP the husband and dog   \n",
       "\n",
       "                 author  score          created_utc subreddit  is_submitter  \\\n",
       "254424  boxfortcommando      1  2025-06-15 02:45:15      news         False   \n",
       "254425      ms_directed      1  2025-06-15 02:45:20      news         False   \n",
       "254426       Zak_Rahman      1  2025-06-15 02:45:20      news         False   \n",
       "254427       horseman5K      1  2025-06-15 02:45:21      news         False   \n",
       "254428  Alive-Monk-5705      1  2025-06-15 02:45:24      news         False   \n",
       "\n",
       "        depth distinguished   parent_id     link_id  \\\n",
       "254424    NaN           NaN  t1_mxue4ly  t3_1lbp2u5   \n",
       "254425    NaN           NaN  t1_mxuhzrs  t3_1lbkcnt   \n",
       "254426    NaN           NaN  t3_1lbbfuu  t3_1lbbfuu   \n",
       "254427    NaN           NaN  t1_mxt9wt1  t3_1lbkcnt   \n",
       "254428    NaN           NaN  t3_1lbbfuu  t3_1lbbfuu   \n",
       "\n",
       "                       ingested_at  \n",
       "254424  2025-06-15 02:45:26.773841  \n",
       "254425  2025-06-15 02:45:31.651460  \n",
       "254426  2025-06-15 02:45:32.153652  \n",
       "254427  2025-06-15 02:45:32.779532  \n",
       "254428  2025-06-15 02:45:35.265887  "
      ]
     },
     "execution_count": 6,
     "metadata": {},
     "output_type": "execute_result"
    }
   ],
   "source": [
    "comments_df.tail()"
   ]
  },
  {
   "cell_type": "code",
   "execution_count": 7,
   "id": "5f18c15b-af01-4815-a7da-14c2723dc6b3",
   "metadata": {},
   "outputs": [
    {
     "data": {
      "text/plain": [
       "id                 int64\n",
       "comment_id        object\n",
       "body              object\n",
       "author            object\n",
       "score              int64\n",
       "created_utc       object\n",
       "subreddit         object\n",
       "is_submitter        bool\n",
       "depth            float64\n",
       "distinguished     object\n",
       "parent_id         object\n",
       "link_id           object\n",
       "ingested_at       object\n",
       "dtype: object"
      ]
     },
     "execution_count": 7,
     "metadata": {},
     "output_type": "execute_result"
    }
   ],
   "source": [
    "comments_df.dtypes"
   ]
  },
  {
   "cell_type": "code",
   "execution_count": 8,
   "id": "939b7fd5-9760-4336-993f-3620da8aead0",
   "metadata": {},
   "outputs": [
    {
     "data": {
      "text/plain": [
       "id               int64\n",
       "post_id         object\n",
       "title           object\n",
       "selftext        object\n",
       "author          object\n",
       "score            int64\n",
       "num_comments     int64\n",
       "created_utc     object\n",
       "subreddit       object\n",
       "flair           object\n",
       "url             object\n",
       "over_18           bool\n",
       "is_self           bool\n",
       "ingested_at     object\n",
       "dtype: object"
      ]
     },
     "execution_count": 8,
     "metadata": {},
     "output_type": "execute_result"
    }
   ],
   "source": [
    "posts_df.dtypes"
   ]
  },
  {
   "cell_type": "code",
   "execution_count": 9,
   "id": "877b83e0-ffc0-4099-a6a1-1667c545fa39",
   "metadata": {},
   "outputs": [
    {
     "data": {
      "text/plain": [
       "id               254429\n",
       "comment_id       254429\n",
       "body             248509\n",
       "author           110197\n",
       "score                 1\n",
       "created_utc      216877\n",
       "subreddit             3\n",
       "is_submitter          2\n",
       "depth                 0\n",
       "distinguished         1\n",
       "parent_id         91254\n",
       "link_id            4211\n",
       "ingested_at      254429\n",
       "dtype: int64"
      ]
     },
     "execution_count": 9,
     "metadata": {},
     "output_type": "execute_result"
    }
   ],
   "source": [
    "comments_df.nunique() "
   ]
  },
  {
   "cell_type": "code",
   "execution_count": 10,
   "id": "352fe313-270c-4920-b8d2-b4b71a867b3f",
   "metadata": {},
   "outputs": [
    {
     "data": {
      "text/plain": [
       "id              1396\n",
       "post_id         1395\n",
       "title           1373\n",
       "selftext         492\n",
       "author          1001\n",
       "score              4\n",
       "num_comments       7\n",
       "created_utc     1394\n",
       "subreddit          3\n",
       "flair             10\n",
       "url             1373\n",
       "over_18            2\n",
       "is_self            2\n",
       "ingested_at     1396\n",
       "dtype: int64"
      ]
     },
     "execution_count": 10,
     "metadata": {},
     "output_type": "execute_result"
    }
   ],
   "source": [
    "posts_df.nunique()"
   ]
  },
  {
   "cell_type": "markdown",
   "id": "59a57c04-223d-461c-8392-4f266749693d",
   "metadata": {},
   "source": [
    "### Fields removed from dataset for EDA and Modeling\n",
    "**Score:**\n",
    "- Reddit gives the author an automatic +1 upvote when they post a comment.\n",
    "- The data was ingested within a few seconds after being posted.\n",
    "- No one had time to engage with posts and comments given the small timeframe from posting to ingestion.\n",
    "- For nearly all fresh comments, `score = 1` is essentially a constant — not meaningful from an analytics perspective at ingestion time.\n",
    "\n",
    "**Depth:**\n",
    "- Same circumstance as `Score` field.\n",
    "- Not enough time given for Reddit users to reply to comments\n",
    "- For all comments, `depth = NaN` is a constant"
   ]
  },
  {
   "cell_type": "code",
   "execution_count": 11,
   "id": "776b6b4c-a202-4883-b909-8a64fdc3fa47",
   "metadata": {},
   "outputs": [],
   "source": [
    "comments_df2 = comments_df.drop(['score', 'depth'], axis=1)\n",
    "posts_df2 = posts_df.drop(['score'], axis=1)"
   ]
  },
  {
   "cell_type": "code",
   "execution_count": 12,
   "id": "666ce44f-7f63-4540-aa5c-f6bd11fb2b64",
   "metadata": {},
   "outputs": [
    {
     "data": {
      "text/plain": [
       "Index(['id', 'comment_id', 'body', 'author', 'created_utc', 'subreddit',\n",
       "       'is_submitter', 'distinguished', 'parent_id', 'link_id', 'ingested_at'],\n",
       "      dtype='object')"
      ]
     },
     "execution_count": 12,
     "metadata": {},
     "output_type": "execute_result"
    }
   ],
   "source": [
    "comments_df2.columns"
   ]
  },
  {
   "cell_type": "code",
   "execution_count": 13,
   "id": "0ca584b0-3946-44e5-8642-fe0e0308e0e7",
   "metadata": {},
   "outputs": [
    {
     "data": {
      "text/plain": [
       "Index(['id', 'post_id', 'title', 'selftext', 'author', 'num_comments',\n",
       "       'created_utc', 'subreddit', 'flair', 'url', 'over_18', 'is_self',\n",
       "       'ingested_at'],\n",
       "      dtype='object')"
      ]
     },
     "execution_count": 13,
     "metadata": {},
     "output_type": "execute_result"
    }
   ],
   "source": [
    "posts_df2.columns"
   ]
  },
  {
   "cell_type": "code",
   "execution_count": 14,
   "id": "e42242f1-d13c-4f06-a78a-57ec40be016c",
   "metadata": {},
   "outputs": [
    {
     "data": {
      "text/plain": [
       "0"
      ]
     },
     "execution_count": 14,
     "metadata": {},
     "output_type": "execute_result"
    }
   ],
   "source": [
    "posts_df2.duplicated().sum()"
   ]
  },
  {
   "cell_type": "code",
   "execution_count": 15,
   "id": "7815eb5e-9cb7-44f8-9b5d-ecaaf0265759",
   "metadata": {},
   "outputs": [
    {
     "data": {
      "text/plain": [
       "0"
      ]
     },
     "execution_count": 15,
     "metadata": {},
     "output_type": "execute_result"
    }
   ],
   "source": [
    "comments_df2.duplicated().sum()"
   ]
  },
  {
   "cell_type": "code",
   "execution_count": 16,
   "id": "aebb4cc8-796c-4e72-8b6e-a13f0fb16cc0",
   "metadata": {},
   "outputs": [
    {
     "data": {
      "text/plain": [
       "id                    0\n",
       "comment_id            0\n",
       "body                  9\n",
       "author                0\n",
       "created_utc           0\n",
       "subreddit             0\n",
       "is_submitter          0\n",
       "distinguished    251700\n",
       "parent_id             0\n",
       "link_id               0\n",
       "ingested_at           0\n",
       "dtype: int64"
      ]
     },
     "execution_count": 16,
     "metadata": {},
     "output_type": "execute_result"
    }
   ],
   "source": [
    "comments_df2.isnull().sum()"
   ]
  },
  {
   "cell_type": "code",
   "execution_count": 17,
   "id": "05c6ece5-a9c0-4b7e-8afe-696e26a1f542",
   "metadata": {},
   "outputs": [
    {
     "data": {
      "text/plain": [
       "id                    0\n",
       "comment_id            0\n",
       "body                  0\n",
       "author                0\n",
       "created_utc           0\n",
       "subreddit             0\n",
       "is_submitter          0\n",
       "distinguished    251691\n",
       "parent_id             0\n",
       "link_id               0\n",
       "ingested_at           0\n",
       "dtype: int64"
      ]
     },
     "execution_count": 17,
     "metadata": {},
     "output_type": "execute_result"
    }
   ],
   "source": [
    "# Dropped null values in `body` field\n",
    "comments_df2 = comments_df2.dropna(subset='body')\n",
    "comments_df2.isnull().sum()"
   ]
  },
  {
   "cell_type": "code",
   "execution_count": 18,
   "id": "865f4018-a81c-478e-950d-3b80ea785099",
   "metadata": {},
   "outputs": [
    {
     "data": {
      "text/plain": [
       "id               0\n",
       "comment_id       0\n",
       "body             0\n",
       "author           0\n",
       "created_utc      0\n",
       "subreddit        0\n",
       "is_submitter     0\n",
       "distinguished    0\n",
       "parent_id        0\n",
       "link_id          0\n",
       "ingested_at      0\n",
       "dtype: int64"
      ]
     },
     "execution_count": 18,
     "metadata": {},
     "output_type": "execute_result"
    }
   ],
   "source": [
    "# Replace null values in `distinguished` with \"Normal User\"\n",
    "comments_df2['distinguished'] = comments_df2['distinguished'].fillna('Normal User')\n",
    "# Verify the updates were made correctly\n",
    "comments_df2.isnull().sum()"
   ]
  },
  {
   "cell_type": "code",
   "execution_count": 19,
   "id": "167ae836-f4a8-4895-b383-3bb53357bdb9",
   "metadata": {},
   "outputs": [
    {
     "data": {
      "text/plain": [
       "distinguished\n",
       "Normal User    251691\n",
       "moderator        2729\n",
       "Name: count, dtype: int64"
      ]
     },
     "execution_count": 19,
     "metadata": {},
     "output_type": "execute_result"
    }
   ],
   "source": [
    "comments_df2['distinguished'].value_counts()"
   ]
  },
  {
   "cell_type": "code",
   "execution_count": 20,
   "id": "76598f8f-03b8-4f37-bd23-531c289da555",
   "metadata": {},
   "outputs": [
    {
     "data": {
      "text/plain": [
       "id                 0\n",
       "post_id            0\n",
       "title              0\n",
       "selftext         900\n",
       "author             0\n",
       "num_comments       0\n",
       "created_utc        0\n",
       "subreddit          0\n",
       "flair           1262\n",
       "url                0\n",
       "over_18            0\n",
       "is_self            0\n",
       "ingested_at        0\n",
       "dtype: int64"
      ]
     },
     "execution_count": 20,
     "metadata": {},
     "output_type": "execute_result"
    }
   ],
   "source": [
    "posts_df2.isnull().sum()"
   ]
  },
  {
   "cell_type": "code",
   "execution_count": 21,
   "id": "32ef428e-e62a-4053-8b72-70b70c439057",
   "metadata": {},
   "outputs": [
    {
     "data": {
      "text/plain": [
       "id              0\n",
       "post_id         0\n",
       "title           0\n",
       "selftext        0\n",
       "author          0\n",
       "num_comments    0\n",
       "created_utc     0\n",
       "subreddit       0\n",
       "flair           0\n",
       "url             0\n",
       "over_18         0\n",
       "is_self         0\n",
       "ingested_at     0\n",
       "dtype: int64"
      ]
     },
     "execution_count": 21,
     "metadata": {},
     "output_type": "execute_result"
    }
   ],
   "source": [
    "# Replace null values in `selftext` with \"[no text]\"\n",
    "posts_df2['selftext'] = posts_df2['selftext'].fillna('[no text]')\n",
    "\n",
    "# Replace null values in `flair` with \"Unknown\"\n",
    "posts_df2['flair'] = posts_df2['flair'].fillna('Unknown')\n",
    "\n",
    "#Verify updates were made correctly\n",
    "posts_df2.isnull().sum()"
   ]
  },
  {
   "cell_type": "code",
   "execution_count": 22,
   "id": "e7d3a7f0-0575-4f2d-9dd5-b69c49d1f9de",
   "metadata": {},
   "outputs": [
    {
     "data": {
      "text/plain": [
       "num_comments\n",
       "0    1291\n",
       "2      89\n",
       "3       8\n",
       "1       5\n",
       "7       1\n",
       "8       1\n",
       "4       1\n",
       "Name: count, dtype: int64"
      ]
     },
     "execution_count": 22,
     "metadata": {},
     "output_type": "execute_result"
    }
   ],
   "source": [
    "posts_df2['num_comments'].value_counts()"
   ]
  },
  {
   "cell_type": "code",
   "execution_count": 23,
   "id": "1e6e6208-74fa-412f-9762-42a4e7f1b40d",
   "metadata": {},
   "outputs": [
    {
     "data": {
      "text/plain": [
       "subreddit\n",
       "gaming            135140\n",
       "news              111864\n",
       "Showerthoughts      7416\n",
       "Name: count, dtype: int64"
      ]
     },
     "execution_count": 23,
     "metadata": {},
     "output_type": "execute_result"
    }
   ],
   "source": [
    "comments_df2['subreddit'].value_counts()"
   ]
  },
  {
   "cell_type": "code",
   "execution_count": 24,
   "id": "042f022f-4637-4bc9-a9d4-3804832b2b14",
   "metadata": {},
   "outputs": [
    {
     "data": {
      "text/plain": [
       "subreddit\n",
       "gaming            904\n",
       "news              391\n",
       "Showerthoughts    101\n",
       "Name: count, dtype: int64"
      ]
     },
     "execution_count": 24,
     "metadata": {},
     "output_type": "execute_result"
    }
   ],
   "source": [
    "posts_df2['subreddit'].value_counts()"
   ]
  },
  {
   "cell_type": "code",
   "execution_count": 25,
   "id": "b21e518a-db7a-4377-b527-2bc3f17d8f41",
   "metadata": {},
   "outputs": [
    {
     "data": {
      "text/plain": [
       "over_18\n",
       "False    1389\n",
       "True        7\n",
       "Name: count, dtype: int64"
      ]
     },
     "execution_count": 25,
     "metadata": {},
     "output_type": "execute_result"
    }
   ],
   "source": [
    "posts_df2['over_18'].value_counts()"
   ]
  },
  {
   "cell_type": "markdown",
   "id": "58bc034e-99dc-46a9-8ac4-94dfea8e3e36",
   "metadata": {},
   "source": [
    "### Normalize text fields for sentiment analysis\n",
    "**Posts DataFrame Fields:**\n",
    "- `title`\n",
    "- `selftext`\n",
    "\n",
    "**Comments DataFrame Fields:**\n",
    "- `body`"
   ]
  },
  {
   "cell_type": "markdown",
   "id": "6b398035-e1bb-4db6-ab11-34d926c889ff",
   "metadata": {},
   "source": [
    "#### Posts DataFrame Normalization"
   ]
  },
  {
   "cell_type": "code",
   "execution_count": 26,
   "id": "a11a9fa6-3a32-4f05-8152-26d7b000ac98",
   "metadata": {},
   "outputs": [],
   "source": [
    "import re\n",
    "\n",
    "posts_df2['title'] = posts_df2['title'].str.strip()\n",
    "posts_df2['selftext'] = posts_df2['selftext'].str.strip()\n",
    "posts_df2['title'] = posts_df2['title'].str.lower()\n",
    "posts_df2['selftext'] = posts_df2['selftext'].str.lower()\n",
    "posts_df2['title'] = posts_df2['title'].apply(lambda x: re.sub(r'http\\S+|www\\.\\S+', '', x))\n",
    "posts_df2['selftext'] = posts_df2['selftext'].apply(lambda x: re.sub(r'http\\S+|www\\.\\S+', '', x))"
   ]
  },
  {
   "cell_type": "code",
   "execution_count": 27,
   "id": "bb588944-b512-472d-b155-3839e3b1778d",
   "metadata": {},
   "outputs": [
    {
     "data": {
      "text/plain": [
       "0    just finished the hbo series, so my non gamer ...\n",
       "1                            emotional impact of games\n",
       "2    university of michigan student fled to china a...\n",
       "3                      what are you playing wednesday!\n",
       "4           hell is us is looking and playing amazing.\n",
       "Name: title, dtype: object"
      ]
     },
     "execution_count": 27,
     "metadata": {},
     "output_type": "execute_result"
    }
   ],
   "source": [
    "posts_df2['title'].head()"
   ]
  },
  {
   "cell_type": "code",
   "execution_count": 28,
   "id": "e9944dbb-be5c-4813-985c-97b7fd0bbe80",
   "metadata": {},
   "outputs": [
    {
     "data": {
      "text/plain": [
       "0        the last of us just in case it’s not obvious.\n",
       "1    it just came to me, how much harder emotional ...\n",
       "2                                            [no text]\n",
       "3    what game's got your attention this week? what...\n",
       "4    finished the demo twice already and i'm very h...\n",
       "Name: selftext, dtype: object"
      ]
     },
     "execution_count": 28,
     "metadata": {},
     "output_type": "execute_result"
    }
   ],
   "source": [
    "posts_df2['selftext'].head()"
   ]
  },
  {
   "cell_type": "markdown",
   "id": "d5c6c03c-1940-4884-9c4a-bccdab744cd6",
   "metadata": {},
   "source": [
    "#### Comments DataFrame Normalization"
   ]
  },
  {
   "cell_type": "code",
   "execution_count": 29,
   "id": "bab727d6-b131-48e2-8a31-0ad2c3f5e94c",
   "metadata": {},
   "outputs": [],
   "source": [
    "comments_df2['body'] = comments_df2['body'].str.strip()\n",
    "comments_df2['body'] = comments_df2['body'].str.lower()\n",
    "comments_df2['body'] = comments_df2['body'].apply(lambda x: re.sub(r'http\\S+|www\\.\\S+', '', x))"
   ]
  },
  {
   "cell_type": "code",
   "execution_count": 30,
   "id": "19a41645-1c7a-4a3e-ba52-d44a42bc2160",
   "metadata": {},
   "outputs": [
    {
     "data": {
      "text/plain": [
       "0    hospitals should be left to people who believe...\n",
       "1       \\n\\ngame came out the 25. 26 they posted this.\n",
       "2    kingdoms of amalur: reckoning  \\nit wasn’t ter...\n",
       "3    i may be wrong on that but they're still mostl...\n",
       "4    i do believe it's the current world record hol...\n",
       "Name: body, dtype: object"
      ]
     },
     "execution_count": 30,
     "metadata": {},
     "output_type": "execute_result"
    }
   ],
   "source": [
    "comments_df2['body'].head()"
   ]
  },
  {
   "cell_type": "markdown",
   "id": "372c4278-a927-4ce9-b697-258e7578618f",
   "metadata": {},
   "source": [
    "### Isolate data within a 7-day window"
   ]
  },
  {
   "cell_type": "code",
   "execution_count": 31,
   "id": "d741919f-9ff5-459e-86d3-42c6c7ab8989",
   "metadata": {},
   "outputs": [
    {
     "name": "stdout",
     "output_type": "stream",
     "text": [
      "Earliest comment:\n",
      "created_utc                                  2025-06-04 05:16:20\n",
      "ingested_at                           2025-06-04 05:16:35.070884\n",
      "body           cause this is what is important right? not the...\n",
      "Name: 145, dtype: object\n",
      "\n",
      "Latest comment:\n",
      "created_utc           2025-06-15 02:45:24\n",
      "ingested_at    2025-06-15 02:45:35.265887\n",
      "body              rip the husband and dog\n",
      "Name: 254428, dtype: object\n",
      "Earliest post:\n",
      "created_utc                                  2025-06-04 05:22:35\n",
      "ingested_at                           2025-06-04 05:23:01.803944\n",
      "title          just finished the hbo series, so my non gamer ...\n",
      "Name: 0, dtype: object\n",
      "\n",
      "Latest post:\n",
      "created_utc                                  2025-06-15 02:32:50\n",
      "ingested_at                           2025-06-15 02:33:17.564512\n",
      "title          he chose to serve longer in the army. now he's...\n",
      "Name: 1395, dtype: object\n"
     ]
    }
   ],
   "source": [
    "# Sort by created_utc in ascending order\n",
    "comments_df2 = comments_df2.sort_values(by=\"created_utc\", ascending=True)\n",
    "\n",
    "# Display the earliest and latest comments\n",
    "print(\"Earliest comment:\")\n",
    "print(comments_df2.iloc[0][[\"created_utc\", \"ingested_at\", \"body\"]])\n",
    "print(\"\\nLatest comment:\")\n",
    "print(comments_df2.iloc[-1][[\"created_utc\", \"ingested_at\", \"body\"]])\n",
    "\n",
    "# Sort by created_utc in ascending order\n",
    "posts_df2 = posts_df2.sort_values(by=\"created_utc\", ascending=True)\n",
    "\n",
    "# Display the earliest and latest posts\n",
    "print(\"Earliest post:\")\n",
    "print(posts_df2.iloc[0][[\"created_utc\", \"ingested_at\", \"title\"]])\n",
    "print(\"\\nLatest post:\")\n",
    "print(posts_df2.iloc[-1][[\"created_utc\", \"ingested_at\", \"title\"]])"
   ]
  },
  {
   "cell_type": "code",
   "execution_count": 32,
   "id": "e9304716-b3c3-4d9d-bc2a-65ee69e9f7f8",
   "metadata": {},
   "outputs": [],
   "source": [
    "# Convert created_utc to datetime\n",
    "posts_df2[\"created_utc\"] = pd.to_datetime(posts_df2[\"created_utc\"])\n",
    "comments_df2[\"created_utc\"] = pd.to_datetime(comments_df2[\"created_utc\"])\n",
    "# Convert ingested_at to datetime\n",
    "posts_df2[\"ingested_at\"] = pd.to_datetime(posts_df2[\"ingested_at\"])\n",
    "comments_df2[\"ingested_at\"] = pd.to_datetime(comments_df2[\"ingested_at\"])\n",
    "\n",
    "# Define start and end dates\n",
    "start = pd.to_datetime(\"2025-06-07\")\n",
    "end = pd.to_datetime(\"2025-06-15\")\n",
    "\n",
    "# Filter for posts\n",
    "cleaned_posts_df = posts_df2[(posts_df2[\"created_utc\"] >= start) & (posts_df2[\"created_utc\"] <= end)]\n",
    "\n",
    "# Filter for comments\n",
    "cleaned_comments_df = comments_df2[(comments_df2[\"created_utc\"] >= start) & (comments_df2[\"created_utc\"] <= end)]"
   ]
  },
  {
   "cell_type": "code",
   "execution_count": 33,
   "id": "66d35c4a-1508-487a-880b-5a7c8cf9e324",
   "metadata": {},
   "outputs": [
    {
     "name": "stdout",
     "output_type": "stream",
     "text": [
      "Earliest comment:\n",
      "created_utc                                  2025-06-07 00:00:04\n",
      "ingested_at                           2025-06-07 00:00:15.434124\n",
      "body           no shit, it hasn't happened yet. it's called a...\n",
      "Name: 64849, dtype: object\n",
      "\n",
      "Latest comment:\n",
      "created_utc                                  2025-06-14 23:59:57\n",
      "ingested_at                           2025-06-15 00:00:09.221545\n",
      "body           it seems that if you have a business in a diff...\n",
      "Name: 252356, dtype: object\n",
      "Earliest post:\n",
      "created_utc                                  2025-06-07 00:33:32\n",
      "ingested_at                           2025-06-07 00:33:56.770212\n",
      "title          is the switch 2 pro controller worth the $90 p...\n",
      "Name: 395, dtype: object\n",
      "\n",
      "Latest post:\n",
      "created_utc                                 2025-06-14 23:49:26\n",
      "ingested_at                          2025-06-14 23:49:44.974029\n",
      "title          is ai art fine if devs have no artistic ability?\n",
      "Name: 1388, dtype: object\n"
     ]
    }
   ],
   "source": [
    "# Verify the isolation worked correctly\n",
    "\n",
    "# Display the earliest and latest comments\n",
    "print(\"Earliest comment:\")\n",
    "print(cleaned_comments_df.iloc[0][[\"created_utc\", \"ingested_at\", \"body\"]])\n",
    "print(\"\\nLatest comment:\")\n",
    "print(cleaned_comments_df.iloc[-1][[\"created_utc\", \"ingested_at\", \"body\"]])\n",
    "\n",
    "# Display the earliest and latest posts\n",
    "print(\"Earliest post:\")\n",
    "print(cleaned_posts_df.iloc[0][[\"created_utc\", \"ingested_at\", \"title\"]])\n",
    "print(\"\\nLatest post:\")\n",
    "print(cleaned_posts_df.iloc[-1][[\"created_utc\", \"ingested_at\", \"title\"]])"
   ]
  },
  {
   "cell_type": "markdown",
   "id": "050902f0-ee5d-4eaf-9a23-aa14d1bc880d",
   "metadata": {},
   "source": [
    "The dataframes now only include posts and comments created between June 7 and June 14 — one full week."
   ]
  },
  {
   "cell_type": "code",
   "execution_count": 51,
   "id": "695ff5bb-6e8b-49d5-9856-b8efe5a751f9",
   "metadata": {},
   "outputs": [
    {
     "name": "stdout",
     "output_type": "stream",
     "text": [
      "<class 'pandas.core.frame.DataFrame'>\n",
      "Index: 995 entries, 395 to 1388\n",
      "Data columns (total 15 columns):\n",
      " #   Column        Non-Null Count  Dtype         \n",
      "---  ------        --------------  -----         \n",
      " 0   id            995 non-null    int64         \n",
      " 1   post_id       995 non-null    object        \n",
      " 2   title         995 non-null    object        \n",
      " 3   selftext      995 non-null    object        \n",
      " 4   author        995 non-null    object        \n",
      " 5   num_comments  995 non-null    int64         \n",
      " 6   created_utc   995 non-null    datetime64[ns]\n",
      " 7   subreddit     995 non-null    object        \n",
      " 8   flair         995 non-null    object        \n",
      " 9   url           995 non-null    object        \n",
      " 10  over_18       995 non-null    bool          \n",
      " 11  is_self       995 non-null    bool          \n",
      " 12  ingested_at   995 non-null    datetime64[ns]\n",
      " 13  vader_score   995 non-null    float64       \n",
      " 14  vader_label   995 non-null    object        \n",
      "dtypes: bool(2), datetime64[ns](2), float64(1), int64(2), object(8)\n",
      "memory usage: 110.8+ KB\n"
     ]
    }
   ],
   "source": [
    "cleaned_posts_df.info()"
   ]
  },
  {
   "cell_type": "code",
   "execution_count": 50,
   "id": "9cf4d084-e189-486d-9246-b19b37868ee9",
   "metadata": {},
   "outputs": [
    {
     "name": "stdout",
     "output_type": "stream",
     "text": [
      "<class 'pandas.core.frame.DataFrame'>\n",
      "Index: 187555 entries, 64849 to 252356\n",
      "Data columns (total 13 columns):\n",
      " #   Column         Non-Null Count   Dtype         \n",
      "---  ------         --------------   -----         \n",
      " 0   id             187555 non-null  int64         \n",
      " 1   comment_id     187555 non-null  object        \n",
      " 2   body           187555 non-null  object        \n",
      " 3   author         187555 non-null  object        \n",
      " 4   created_utc    187555 non-null  datetime64[ns]\n",
      " 5   subreddit      187555 non-null  object        \n",
      " 6   is_submitter   187555 non-null  bool          \n",
      " 7   distinguished  187555 non-null  object        \n",
      " 8   parent_id      187555 non-null  object        \n",
      " 9   link_id        187555 non-null  object        \n",
      " 10  ingested_at    187555 non-null  datetime64[ns]\n",
      " 11  vader_score    187555 non-null  float64       \n",
      " 12  vader_label    187555 non-null  object        \n",
      "dtypes: bool(1), datetime64[ns](2), float64(1), int64(1), object(8)\n",
      "memory usage: 18.8+ MB\n"
     ]
    }
   ],
   "source": [
    "cleaned_comments_df.info()"
   ]
  },
  {
   "cell_type": "code",
   "execution_count": 36,
   "id": "13cc1135-a955-4742-b27c-94ddf1f2beb7",
   "metadata": {},
   "outputs": [
    {
     "data": {
      "text/html": [
       "<div>\n",
       "<style scoped>\n",
       "    .dataframe tbody tr th:only-of-type {\n",
       "        vertical-align: middle;\n",
       "    }\n",
       "\n",
       "    .dataframe tbody tr th {\n",
       "        vertical-align: top;\n",
       "    }\n",
       "\n",
       "    .dataframe thead th {\n",
       "        text-align: right;\n",
       "    }\n",
       "</style>\n",
       "<table border=\"1\" class=\"dataframe\">\n",
       "  <thead>\n",
       "    <tr style=\"text-align: right;\">\n",
       "      <th></th>\n",
       "      <th>id</th>\n",
       "      <th>post_id</th>\n",
       "      <th>title</th>\n",
       "      <th>selftext</th>\n",
       "      <th>author</th>\n",
       "      <th>num_comments</th>\n",
       "      <th>created_utc</th>\n",
       "      <th>subreddit</th>\n",
       "      <th>flair</th>\n",
       "      <th>url</th>\n",
       "      <th>over_18</th>\n",
       "      <th>is_self</th>\n",
       "      <th>ingested_at</th>\n",
       "    </tr>\n",
       "  </thead>\n",
       "  <tbody>\n",
       "    <tr>\n",
       "      <th>395</th>\n",
       "      <td>548</td>\n",
       "      <td>1l580j8</td>\n",
       "      <td>is the switch 2 pro controller worth the $90 p...</td>\n",
       "      <td>[no text]</td>\n",
       "      <td>zerooskul</td>\n",
       "      <td>0</td>\n",
       "      <td>2025-06-07 00:33:32</td>\n",
       "      <td>gaming</td>\n",
       "      <td>Unknown</td>\n",
       "      <td>https://youtu.be/lbEoRNi256U?si=g8B19kYSdEYaBA6q</td>\n",
       "      <td>False</td>\n",
       "      <td>False</td>\n",
       "      <td>2025-06-07 00:33:56.770212</td>\n",
       "    </tr>\n",
       "    <tr>\n",
       "      <th>396</th>\n",
       "      <td>549</td>\n",
       "      <td>1l581bj</td>\n",
       "      <td>how many people not buying a game at $70+ for ...</td>\n",
       "      <td>games are getting stupidly expensive stupidly ...</td>\n",
       "      <td>Animedingo</td>\n",
       "      <td>0</td>\n",
       "      <td>2025-06-07 00:34:37</td>\n",
       "      <td>gaming</td>\n",
       "      <td>Unknown</td>\n",
       "      <td>https://www.reddit.com/r/gaming/comments/1l581...</td>\n",
       "      <td>False</td>\n",
       "      <td>True</td>\n",
       "      <td>2025-06-07 00:34:50.923436</td>\n",
       "    </tr>\n",
       "    <tr>\n",
       "      <th>425</th>\n",
       "      <td>578</td>\n",
       "      <td>1l58292</td>\n",
       "      <td>3 teens dead after apparent police chase and c...</td>\n",
       "      <td>[no text]</td>\n",
       "      <td>whatareyousomekinda</td>\n",
       "      <td>0</td>\n",
       "      <td>2025-06-07 00:35:56</td>\n",
       "      <td>news</td>\n",
       "      <td>Unknown</td>\n",
       "      <td>https://www.cbsnews.com/philadelphia/news/lime...</td>\n",
       "      <td>False</td>\n",
       "      <td>False</td>\n",
       "      <td>2025-06-07 07:02:51.867227</td>\n",
       "    </tr>\n",
       "    <tr>\n",
       "      <th>400</th>\n",
       "      <td>553</td>\n",
       "      <td>1l58522</td>\n",
       "      <td>what’s your favorite animal companion in a game?</td>\n",
       "      <td>mine is dogmeat from fallout</td>\n",
       "      <td>Euriel</td>\n",
       "      <td>0</td>\n",
       "      <td>2025-06-07 00:40:07</td>\n",
       "      <td>gaming</td>\n",
       "      <td>Unknown</td>\n",
       "      <td>https://www.reddit.com/r/gaming/comments/1l585...</td>\n",
       "      <td>False</td>\n",
       "      <td>True</td>\n",
       "      <td>2025-06-07 01:53:06.952741</td>\n",
       "    </tr>\n",
       "    <tr>\n",
       "      <th>397</th>\n",
       "      <td>550</td>\n",
       "      <td>1l58toe</td>\n",
       "      <td>movies make the assumption that people can cha...</td>\n",
       "      <td>[no text]</td>\n",
       "      <td>ballcheese808</td>\n",
       "      <td>2</td>\n",
       "      <td>2025-06-07 01:15:46</td>\n",
       "      <td>Showerthoughts</td>\n",
       "      <td>Casual Thought</td>\n",
       "      <td>https://www.reddit.com/r/Showerthoughts/commen...</td>\n",
       "      <td>False</td>\n",
       "      <td>True</td>\n",
       "      <td>2025-06-07 01:17:28.531861</td>\n",
       "    </tr>\n",
       "  </tbody>\n",
       "</table>\n",
       "</div>"
      ],
      "text/plain": [
       "      id  post_id                                              title  \\\n",
       "395  548  1l580j8  is the switch 2 pro controller worth the $90 p...   \n",
       "396  549  1l581bj  how many people not buying a game at $70+ for ...   \n",
       "425  578  1l58292  3 teens dead after apparent police chase and c...   \n",
       "400  553  1l58522   what’s your favorite animal companion in a game?   \n",
       "397  550  1l58toe  movies make the assumption that people can cha...   \n",
       "\n",
       "                                              selftext               author  \\\n",
       "395                                          [no text]            zerooskul   \n",
       "396  games are getting stupidly expensive stupidly ...           Animedingo   \n",
       "425                                          [no text]  whatareyousomekinda   \n",
       "400                       mine is dogmeat from fallout               Euriel   \n",
       "397                                          [no text]        ballcheese808   \n",
       "\n",
       "     num_comments         created_utc       subreddit           flair  \\\n",
       "395             0 2025-06-07 00:33:32          gaming         Unknown   \n",
       "396             0 2025-06-07 00:34:37          gaming         Unknown   \n",
       "425             0 2025-06-07 00:35:56            news         Unknown   \n",
       "400             0 2025-06-07 00:40:07          gaming         Unknown   \n",
       "397             2 2025-06-07 01:15:46  Showerthoughts  Casual Thought   \n",
       "\n",
       "                                                   url  over_18  is_self  \\\n",
       "395   https://youtu.be/lbEoRNi256U?si=g8B19kYSdEYaBA6q    False    False   \n",
       "396  https://www.reddit.com/r/gaming/comments/1l581...    False     True   \n",
       "425  https://www.cbsnews.com/philadelphia/news/lime...    False    False   \n",
       "400  https://www.reddit.com/r/gaming/comments/1l585...    False     True   \n",
       "397  https://www.reddit.com/r/Showerthoughts/commen...    False     True   \n",
       "\n",
       "                   ingested_at  \n",
       "395 2025-06-07 00:33:56.770212  \n",
       "396 2025-06-07 00:34:50.923436  \n",
       "425 2025-06-07 07:02:51.867227  \n",
       "400 2025-06-07 01:53:06.952741  \n",
       "397 2025-06-07 01:17:28.531861  "
      ]
     },
     "execution_count": 36,
     "metadata": {},
     "output_type": "execute_result"
    }
   ],
   "source": [
    "cleaned_posts_df.head()"
   ]
  },
  {
   "cell_type": "code",
   "execution_count": 37,
   "id": "21911f40-78d7-49dc-aee8-41fc3619b605",
   "metadata": {},
   "outputs": [
    {
     "data": {
      "text/html": [
       "<div>\n",
       "<style scoped>\n",
       "    .dataframe tbody tr th:only-of-type {\n",
       "        vertical-align: middle;\n",
       "    }\n",
       "\n",
       "    .dataframe tbody tr th {\n",
       "        vertical-align: top;\n",
       "    }\n",
       "\n",
       "    .dataframe thead th {\n",
       "        text-align: right;\n",
       "    }\n",
       "</style>\n",
       "<table border=\"1\" class=\"dataframe\">\n",
       "  <thead>\n",
       "    <tr style=\"text-align: right;\">\n",
       "      <th></th>\n",
       "      <th>id</th>\n",
       "      <th>comment_id</th>\n",
       "      <th>body</th>\n",
       "      <th>author</th>\n",
       "      <th>created_utc</th>\n",
       "      <th>subreddit</th>\n",
       "      <th>is_submitter</th>\n",
       "      <th>distinguished</th>\n",
       "      <th>parent_id</th>\n",
       "      <th>link_id</th>\n",
       "      <th>ingested_at</th>\n",
       "    </tr>\n",
       "  </thead>\n",
       "  <tbody>\n",
       "    <tr>\n",
       "      <th>64849</th>\n",
       "      <td>97799</td>\n",
       "      <td>mwepi2j</td>\n",
       "      <td>no shit, it hasn't happened yet. it's called a...</td>\n",
       "      <td>PhillySaget</td>\n",
       "      <td>2025-06-07 00:00:04</td>\n",
       "      <td>news</td>\n",
       "      <td>False</td>\n",
       "      <td>Normal User</td>\n",
       "      <td>t1_mwen0hh</td>\n",
       "      <td>t3_1l50nbm</td>\n",
       "      <td>2025-06-07 00:00:15.434124</td>\n",
       "    </tr>\n",
       "    <tr>\n",
       "      <th>64848</th>\n",
       "      <td>97798</td>\n",
       "      <td>mwepi19</td>\n",
       "      <td>wesker was always a ‘earthly things don’t matt...</td>\n",
       "      <td>DRazzyo</td>\n",
       "      <td>2025-06-07 00:00:04</td>\n",
       "      <td>gaming</td>\n",
       "      <td>False</td>\n",
       "      <td>Normal User</td>\n",
       "      <td>t1_mweo9qf</td>\n",
       "      <td>t3_1l564tq</td>\n",
       "      <td>2025-06-07 00:00:14.932122</td>\n",
       "    </tr>\n",
       "    <tr>\n",
       "      <th>64850</th>\n",
       "      <td>97800</td>\n",
       "      <td>mwepjk9</td>\n",
       "      <td>why did they drop the \"&amp; sega\" part of the tit...</td>\n",
       "      <td>PMC-I3181OS387l5</td>\n",
       "      <td>2025-06-07 00:00:19</td>\n",
       "      <td>gaming</td>\n",
       "      <td>False</td>\n",
       "      <td>Normal User</td>\n",
       "      <td>t3_1l53t74</td>\n",
       "      <td>t3_1l53t74</td>\n",
       "      <td>2025-06-07 00:00:33.264148</td>\n",
       "    </tr>\n",
       "    <tr>\n",
       "      <th>64851</th>\n",
       "      <td>97801</td>\n",
       "      <td>mwepjqs</td>\n",
       "      <td>yeah imagine. unfortunately that’s not what ha...</td>\n",
       "      <td>King_Sam-_-</td>\n",
       "      <td>2025-06-07 00:00:21</td>\n",
       "      <td>news</td>\n",
       "      <td>False</td>\n",
       "      <td>Normal User</td>\n",
       "      <td>t1_mwdir84</td>\n",
       "      <td>t3_1l50nbm</td>\n",
       "      <td>2025-06-07 00:00:33.766093</td>\n",
       "    </tr>\n",
       "    <tr>\n",
       "      <th>64852</th>\n",
       "      <td>97802</td>\n",
       "      <td>mwepjyy</td>\n",
       "      <td>canada is in america...\\n\\ni assume you're tal...</td>\n",
       "      <td>GuessSharp4954</td>\n",
       "      <td>2025-06-07 00:00:23</td>\n",
       "      <td>gaming</td>\n",
       "      <td>False</td>\n",
       "      <td>Normal User</td>\n",
       "      <td>t1_mwe89el</td>\n",
       "      <td>t3_1l52m02</td>\n",
       "      <td>2025-06-07 00:00:34.395298</td>\n",
       "    </tr>\n",
       "  </tbody>\n",
       "</table>\n",
       "</div>"
      ],
      "text/plain": [
       "          id comment_id                                               body  \\\n",
       "64849  97799    mwepi2j  no shit, it hasn't happened yet. it's called a...   \n",
       "64848  97798    mwepi19  wesker was always a ‘earthly things don’t matt...   \n",
       "64850  97800    mwepjk9  why did they drop the \"& sega\" part of the tit...   \n",
       "64851  97801    mwepjqs  yeah imagine. unfortunately that’s not what ha...   \n",
       "64852  97802    mwepjyy  canada is in america...\\n\\ni assume you're tal...   \n",
       "\n",
       "                 author         created_utc subreddit  is_submitter  \\\n",
       "64849       PhillySaget 2025-06-07 00:00:04      news         False   \n",
       "64848           DRazzyo 2025-06-07 00:00:04    gaming         False   \n",
       "64850  PMC-I3181OS387l5 2025-06-07 00:00:19    gaming         False   \n",
       "64851       King_Sam-_- 2025-06-07 00:00:21      news         False   \n",
       "64852    GuessSharp4954 2025-06-07 00:00:23    gaming         False   \n",
       "\n",
       "      distinguished   parent_id     link_id                ingested_at  \n",
       "64849   Normal User  t1_mwen0hh  t3_1l50nbm 2025-06-07 00:00:15.434124  \n",
       "64848   Normal User  t1_mweo9qf  t3_1l564tq 2025-06-07 00:00:14.932122  \n",
       "64850   Normal User  t3_1l53t74  t3_1l53t74 2025-06-07 00:00:33.264148  \n",
       "64851   Normal User  t1_mwdir84  t3_1l50nbm 2025-06-07 00:00:33.766093  \n",
       "64852   Normal User  t1_mwe89el  t3_1l52m02 2025-06-07 00:00:34.395298  "
      ]
     },
     "execution_count": 37,
     "metadata": {},
     "output_type": "execute_result"
    }
   ],
   "source": [
    "cleaned_comments_df.head()"
   ]
  },
  {
   "cell_type": "code",
   "execution_count": 38,
   "id": "e64d91d0-330b-4f73-aca8-10e6b78d6ee1",
   "metadata": {},
   "outputs": [
    {
     "data": {
      "text/html": [
       "<div>\n",
       "<style scoped>\n",
       "    .dataframe tbody tr th:only-of-type {\n",
       "        vertical-align: middle;\n",
       "    }\n",
       "\n",
       "    .dataframe tbody tr th {\n",
       "        vertical-align: top;\n",
       "    }\n",
       "\n",
       "    .dataframe thead th {\n",
       "        text-align: right;\n",
       "    }\n",
       "</style>\n",
       "<table border=\"1\" class=\"dataframe\">\n",
       "  <thead>\n",
       "    <tr style=\"text-align: right;\">\n",
       "      <th></th>\n",
       "      <th>id</th>\n",
       "      <th>post_id</th>\n",
       "      <th>title</th>\n",
       "      <th>selftext</th>\n",
       "      <th>author</th>\n",
       "      <th>num_comments</th>\n",
       "      <th>created_utc</th>\n",
       "      <th>subreddit</th>\n",
       "      <th>flair</th>\n",
       "      <th>url</th>\n",
       "      <th>over_18</th>\n",
       "      <th>is_self</th>\n",
       "      <th>ingested_at</th>\n",
       "    </tr>\n",
       "  </thead>\n",
       "  <tbody>\n",
       "    <tr>\n",
       "      <th>1385</th>\n",
       "      <td>1538</td>\n",
       "      <td>1lbl3fo</td>\n",
       "      <td>federal judge in trial of memphis officers con...</td>\n",
       "      <td>[no text]</td>\n",
       "      <td>AudibleNod</td>\n",
       "      <td>0</td>\n",
       "      <td>2025-06-14 22:37:34</td>\n",
       "      <td>news</td>\n",
       "      <td>Unknown</td>\n",
       "      <td>https://www.cbsnews.com/news/federal-judge-mem...</td>\n",
       "      <td>False</td>\n",
       "      <td>False</td>\n",
       "      <td>2025-06-14 22:37:51.977491</td>\n",
       "    </tr>\n",
       "    <tr>\n",
       "      <th>1307</th>\n",
       "      <td>1539</td>\n",
       "      <td>1lbl9zx</td>\n",
       "      <td>mindseye is officially the worst reviewed game...</td>\n",
       "      <td>[no text]</td>\n",
       "      <td>Roids-in-my-vains</td>\n",
       "      <td>0</td>\n",
       "      <td>2025-06-14 22:46:14</td>\n",
       "      <td>gaming</td>\n",
       "      <td>Unknown</td>\n",
       "      <td>https://www.thegamer.com/mindseye-worst-game-o...</td>\n",
       "      <td>False</td>\n",
       "      <td>False</td>\n",
       "      <td>2025-06-14 22:46:37.357985</td>\n",
       "    </tr>\n",
       "    <tr>\n",
       "      <th>1386</th>\n",
       "      <td>1540</td>\n",
       "      <td>1lblo8n</td>\n",
       "      <td>i think nintendo should actively encourage swi...</td>\n",
       "      <td>new games are so expensive that it would be a ...</td>\n",
       "      <td>Alias_X_</td>\n",
       "      <td>0</td>\n",
       "      <td>2025-06-14 23:05:14</td>\n",
       "      <td>gaming</td>\n",
       "      <td>Unknown</td>\n",
       "      <td>https://www.reddit.com/r/gaming/comments/1lblo...</td>\n",
       "      <td>False</td>\n",
       "      <td>True</td>\n",
       "      <td>2025-06-14 23:05:31.591889</td>\n",
       "    </tr>\n",
       "    <tr>\n",
       "      <th>1387</th>\n",
       "      <td>1541</td>\n",
       "      <td>1lblxo0</td>\n",
       "      <td>i always see people complaining about this gen...</td>\n",
       "      <td>i compare by first full year, since consoles r...</td>\n",
       "      <td>BadNewsBearzzz</td>\n",
       "      <td>0</td>\n",
       "      <td>2025-06-14 23:17:23</td>\n",
       "      <td>gaming</td>\n",
       "      <td>Unknown</td>\n",
       "      <td>https://i.redd.it/7y5ighg37z6f1.jpeg</td>\n",
       "      <td>False</td>\n",
       "      <td>False</td>\n",
       "      <td>2025-06-14 23:17:42.515381</td>\n",
       "    </tr>\n",
       "    <tr>\n",
       "      <th>1388</th>\n",
       "      <td>1542</td>\n",
       "      <td>1lbml87</td>\n",
       "      <td>is ai art fine if devs have no artistic ability?</td>\n",
       "      <td>for context i’m a dev working with a team tryi...</td>\n",
       "      <td>Growth_Moist</td>\n",
       "      <td>0</td>\n",
       "      <td>2025-06-14 23:49:26</td>\n",
       "      <td>gaming</td>\n",
       "      <td>Unknown</td>\n",
       "      <td>https://www.reddit.com/r/gaming/comments/1lbml...</td>\n",
       "      <td>False</td>\n",
       "      <td>True</td>\n",
       "      <td>2025-06-14 23:49:44.974029</td>\n",
       "    </tr>\n",
       "  </tbody>\n",
       "</table>\n",
       "</div>"
      ],
      "text/plain": [
       "        id  post_id                                              title  \\\n",
       "1385  1538  1lbl3fo  federal judge in trial of memphis officers con...   \n",
       "1307  1539  1lbl9zx  mindseye is officially the worst reviewed game...   \n",
       "1386  1540  1lblo8n  i think nintendo should actively encourage swi...   \n",
       "1387  1541  1lblxo0  i always see people complaining about this gen...   \n",
       "1388  1542  1lbml87   is ai art fine if devs have no artistic ability?   \n",
       "\n",
       "                                               selftext             author  \\\n",
       "1385                                          [no text]         AudibleNod   \n",
       "1307                                          [no text]  Roids-in-my-vains   \n",
       "1386  new games are so expensive that it would be a ...           Alias_X_   \n",
       "1387  i compare by first full year, since consoles r...     BadNewsBearzzz   \n",
       "1388  for context i’m a dev working with a team tryi...       Growth_Moist   \n",
       "\n",
       "      num_comments         created_utc subreddit    flair  \\\n",
       "1385             0 2025-06-14 22:37:34      news  Unknown   \n",
       "1307             0 2025-06-14 22:46:14    gaming  Unknown   \n",
       "1386             0 2025-06-14 23:05:14    gaming  Unknown   \n",
       "1387             0 2025-06-14 23:17:23    gaming  Unknown   \n",
       "1388             0 2025-06-14 23:49:26    gaming  Unknown   \n",
       "\n",
       "                                                    url  over_18  is_self  \\\n",
       "1385  https://www.cbsnews.com/news/federal-judge-mem...    False    False   \n",
       "1307  https://www.thegamer.com/mindseye-worst-game-o...    False    False   \n",
       "1386  https://www.reddit.com/r/gaming/comments/1lblo...    False     True   \n",
       "1387               https://i.redd.it/7y5ighg37z6f1.jpeg    False    False   \n",
       "1388  https://www.reddit.com/r/gaming/comments/1lbml...    False     True   \n",
       "\n",
       "                    ingested_at  \n",
       "1385 2025-06-14 22:37:51.977491  \n",
       "1307 2025-06-14 22:46:37.357985  \n",
       "1386 2025-06-14 23:05:31.591889  \n",
       "1387 2025-06-14 23:17:42.515381  \n",
       "1388 2025-06-14 23:49:44.974029  "
      ]
     },
     "execution_count": 38,
     "metadata": {},
     "output_type": "execute_result"
    }
   ],
   "source": [
    "cleaned_posts_df.tail()"
   ]
  },
  {
   "cell_type": "code",
   "execution_count": 39,
   "id": "81ace527-b9b4-4c83-9fda-fc7dc5ccb3c5",
   "metadata": {},
   "outputs": [
    {
     "data": {
      "text/html": [
       "<div>\n",
       "<style scoped>\n",
       "    .dataframe tbody tr th:only-of-type {\n",
       "        vertical-align: middle;\n",
       "    }\n",
       "\n",
       "    .dataframe tbody tr th {\n",
       "        vertical-align: top;\n",
       "    }\n",
       "\n",
       "    .dataframe thead th {\n",
       "        text-align: right;\n",
       "    }\n",
       "</style>\n",
       "<table border=\"1\" class=\"dataframe\">\n",
       "  <thead>\n",
       "    <tr style=\"text-align: right;\">\n",
       "      <th></th>\n",
       "      <th>id</th>\n",
       "      <th>comment_id</th>\n",
       "      <th>body</th>\n",
       "      <th>author</th>\n",
       "      <th>created_utc</th>\n",
       "      <th>subreddit</th>\n",
       "      <th>is_submitter</th>\n",
       "      <th>distinguished</th>\n",
       "      <th>parent_id</th>\n",
       "      <th>link_id</th>\n",
       "      <th>ingested_at</th>\n",
       "    </tr>\n",
       "  </thead>\n",
       "  <tbody>\n",
       "    <tr>\n",
       "      <th>252352</th>\n",
       "      <td>285357</td>\n",
       "      <td>mxts5ds</td>\n",
       "      <td>if you're looking to this sub for answers it's...</td>\n",
       "      <td>Sabetha1183</td>\n",
       "      <td>2025-06-14 23:59:33</td>\n",
       "      <td>gaming</td>\n",
       "      <td>False</td>\n",
       "      <td>Normal User</td>\n",
       "      <td>t3_1lbml87</td>\n",
       "      <td>t3_1lbml87</td>\n",
       "      <td>2025-06-14 23:59:43.697818</td>\n",
       "    </tr>\n",
       "    <tr>\n",
       "      <th>252353</th>\n",
       "      <td>285358</td>\n",
       "      <td>mxts5q3</td>\n",
       "      <td>why do they always look like that?</td>\n",
       "      <td>reefered_beans</td>\n",
       "      <td>2025-06-14 23:59:37</td>\n",
       "      <td>news</td>\n",
       "      <td>False</td>\n",
       "      <td>Normal User</td>\n",
       "      <td>t1_mxt98kg</td>\n",
       "      <td>t3_1lbkcnt</td>\n",
       "      <td>2025-06-14 23:59:48.475453</td>\n",
       "    </tr>\n",
       "    <tr>\n",
       "      <th>252354</th>\n",
       "      <td>285359</td>\n",
       "      <td>mxts5vp</td>\n",
       "      <td>holy deflection</td>\n",
       "      <td>AdditionalLead7265</td>\n",
       "      <td>2025-06-14 23:59:38</td>\n",
       "      <td>gaming</td>\n",
       "      <td>False</td>\n",
       "      <td>Normal User</td>\n",
       "      <td>t1_mxts0k2</td>\n",
       "      <td>t3_1lbml87</td>\n",
       "      <td>2025-06-14 23:59:49.095038</td>\n",
       "    </tr>\n",
       "    <tr>\n",
       "      <th>252355</th>\n",
       "      <td>285360</td>\n",
       "      <td>mxts7kg</td>\n",
       "      <td>if you’ve watched many of earthling ed’s debat...</td>\n",
       "      <td>Background_Age9242</td>\n",
       "      <td>2025-06-14 23:59:56</td>\n",
       "      <td>Showerthoughts</td>\n",
       "      <td>False</td>\n",
       "      <td>Normal User</td>\n",
       "      <td>t3_1l9xrfz</td>\n",
       "      <td>t3_1l9xrfz</td>\n",
       "      <td>2025-06-15 00:00:06.531127</td>\n",
       "    </tr>\n",
       "    <tr>\n",
       "      <th>252356</th>\n",
       "      <td>285361</td>\n",
       "      <td>mxts7p9</td>\n",
       "      <td>it seems that if you have a business in a diff...</td>\n",
       "      <td>WCland</td>\n",
       "      <td>2025-06-14 23:59:57</td>\n",
       "      <td>news</td>\n",
       "      <td>False</td>\n",
       "      <td>Normal User</td>\n",
       "      <td>t3_1lbklgg</td>\n",
       "      <td>t3_1lbklgg</td>\n",
       "      <td>2025-06-15 00:00:09.221545</td>\n",
       "    </tr>\n",
       "  </tbody>\n",
       "</table>\n",
       "</div>"
      ],
      "text/plain": [
       "            id comment_id                                               body  \\\n",
       "252352  285357    mxts5ds  if you're looking to this sub for answers it's...   \n",
       "252353  285358    mxts5q3                 why do they always look like that?   \n",
       "252354  285359    mxts5vp                                    holy deflection   \n",
       "252355  285360    mxts7kg  if you’ve watched many of earthling ed’s debat...   \n",
       "252356  285361    mxts7p9  it seems that if you have a business in a diff...   \n",
       "\n",
       "                    author         created_utc       subreddit  is_submitter  \\\n",
       "252352         Sabetha1183 2025-06-14 23:59:33          gaming         False   \n",
       "252353      reefered_beans 2025-06-14 23:59:37            news         False   \n",
       "252354  AdditionalLead7265 2025-06-14 23:59:38          gaming         False   \n",
       "252355  Background_Age9242 2025-06-14 23:59:56  Showerthoughts         False   \n",
       "252356              WCland 2025-06-14 23:59:57            news         False   \n",
       "\n",
       "       distinguished   parent_id     link_id                ingested_at  \n",
       "252352   Normal User  t3_1lbml87  t3_1lbml87 2025-06-14 23:59:43.697818  \n",
       "252353   Normal User  t1_mxt98kg  t3_1lbkcnt 2025-06-14 23:59:48.475453  \n",
       "252354   Normal User  t1_mxts0k2  t3_1lbml87 2025-06-14 23:59:49.095038  \n",
       "252355   Normal User  t3_1l9xrfz  t3_1l9xrfz 2025-06-15 00:00:06.531127  \n",
       "252356   Normal User  t3_1lbklgg  t3_1lbklgg 2025-06-15 00:00:09.221545  "
      ]
     },
     "execution_count": 39,
     "metadata": {},
     "output_type": "execute_result"
    }
   ],
   "source": [
    "cleaned_comments_df.tail()"
   ]
  },
  {
   "cell_type": "markdown",
   "id": "3f616695-500c-4c80-90a5-ee1123d8fd05",
   "metadata": {},
   "source": [
    "## Vader Sentiment Analysis"
   ]
  },
  {
   "cell_type": "code",
   "execution_count": 40,
   "id": "1249ba69-ba25-4c9d-8710-c124e03affe3",
   "metadata": {},
   "outputs": [],
   "source": [
    "# Import VADER\n",
    "from vaderSentiment.vaderSentiment import SentimentIntensityAnalyzer\n",
    "analyzer = SentimentIntensityAnalyzer()"
   ]
  },
  {
   "cell_type": "code",
   "execution_count": 41,
   "id": "cf49b71e-5d56-40fe-9221-af50d097f79e",
   "metadata": {},
   "outputs": [
    {
     "name": "stdout",
     "output_type": "stream",
     "text": [
      "{'neg': 0.0, 'neu': 0.388, 'pos': 0.612, 'compound': 0.836}\n"
     ]
    }
   ],
   "source": [
    "# Test of vaderSentiment\n",
    "score = analyzer.polarity_scores(\"i love this is a wonderful day.\")\n",
    "print(score)"
   ]
  },
  {
   "cell_type": "code",
   "execution_count": 42,
   "id": "be9c33ae-a7d0-46e7-80cd-6fc41a8183ad",
   "metadata": {},
   "outputs": [],
   "source": [
    "cleaned_posts_df['vader_score'] = cleaned_posts_df['title'].apply(lambda x: analyzer.polarity_scores(x)['compound'])\n",
    "\n",
    "cleaned_comments_df['vader_score'] = cleaned_comments_df['body'].apply(lambda x: analyzer.polarity_scores(x)['compound'])"
   ]
  },
  {
   "cell_type": "code",
   "execution_count": 44,
   "id": "b439917e-6301-4f92-ab4f-57a3fb4face0",
   "metadata": {},
   "outputs": [],
   "source": [
    "# Function for sentiment labeling\n",
    "def sentiment_label(score):\n",
    "    if score >= 0.05:\n",
    "        return \"positive\"\n",
    "    elif score <= -0.05:\n",
    "        return \"negative\"\n",
    "    else:\n",
    "        return \"neutral\"\n",
    "\n",
    "cleaned_posts_df['vader_label'] = cleaned_posts_df['vader_score'].apply(sentiment_label)\n",
    "cleaned_comments_df['vader_label'] = cleaned_comments_df['vader_score'].apply(sentiment_label)"
   ]
  },
  {
   "cell_type": "code",
   "execution_count": 47,
   "id": "5aaf33be-d5a7-45c0-a1b9-34f9df48045b",
   "metadata": {},
   "outputs": [
    {
     "data": {
      "text/plain": [
       "395    positive\n",
       "396    negative\n",
       "425    negative\n",
       "400    positive\n",
       "397     neutral\n",
       "Name: vader_label, dtype: object"
      ]
     },
     "execution_count": 47,
     "metadata": {},
     "output_type": "execute_result"
    }
   ],
   "source": [
    "cleaned_posts_df['vader_label'].head()"
   ]
  },
  {
   "cell_type": "code",
   "execution_count": 48,
   "id": "1d6c452c-dc04-44b4-bc34-873f091c895b",
   "metadata": {},
   "outputs": [
    {
     "data": {
      "text/plain": [
       "64849    positive\n",
       "64848    positive\n",
       "64850    positive\n",
       "64851    negative\n",
       "64852    positive\n",
       "Name: vader_label, dtype: object"
      ]
     },
     "execution_count": 48,
     "metadata": {},
     "output_type": "execute_result"
    }
   ],
   "source": [
    "cleaned_comments_df['vader_label'].head()"
   ]
  },
  {
   "cell_type": "markdown",
   "id": "d541fb11-0305-4f93-a3ab-f350d219306a",
   "metadata": {},
   "source": [
    "## Exploratory Data Analysis (EDA)"
   ]
  },
  {
   "cell_type": "code",
   "execution_count": null,
   "id": "9ce62a24-3ed8-4081-a8a1-4e741800a6cb",
   "metadata": {},
   "outputs": [],
   "source": []
  },
  {
   "cell_type": "markdown",
   "id": "0d91d936-023d-4d18-8166-cd90756bdac9",
   "metadata": {},
   "source": [
    "## Modeling"
   ]
  }
 ],
 "metadata": {
  "kernelspec": {
   "display_name": "Python [conda env:base] *",
   "language": "python",
   "name": "conda-base-py"
  },
  "language_info": {
   "codemirror_mode": {
    "name": "ipython",
    "version": 3
   },
   "file_extension": ".py",
   "mimetype": "text/x-python",
   "name": "python",
   "nbconvert_exporter": "python",
   "pygments_lexer": "ipython3",
   "version": "3.12.7"
  }
 },
 "nbformat": 4,
 "nbformat_minor": 5
}
